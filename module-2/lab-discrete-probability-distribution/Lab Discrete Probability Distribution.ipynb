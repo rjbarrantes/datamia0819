{
 "cells": [
  {
   "cell_type": "markdown",
   "metadata": {},
   "source": [
    "# Before your start:\n",
    "\n",
    "    Read the README.md file\n",
    "    Comment as much as you can and use the resources (README.md file)\n",
    "    Happy learning!"
   ]
  },
  {
   "cell_type": "raw",
   "metadata": {},
   "source": [
    "Please note: All calculations must be done in python. \n",
    "Please round the final answer to three decimal places. "
   ]
  },
  {
   "cell_type": "markdown",
   "metadata": {},
   "source": [
    "## Bernoulli's Distribution"
   ]
  },
  {
   "cell_type": "raw",
   "metadata": {},
   "source": [
    "In a basket containing apples and oranges, there are 60 apples and 40 oranges. "
   ]
  },
  {
   "cell_type": "raw",
   "metadata": {},
   "source": [
    "A fruit is picked randomly from the basket. \n",
    "1. What is the probability that the fruit is apple?\n",
    "2. What is the probability that it is an orange?"
   ]
  },
  {
   "cell_type": "code",
   "execution_count": 39,
   "metadata": {},
   "outputs": [],
   "source": [
    "## p = probability that the fruit is an apple \n",
    "## q = probability that the fruit is an orange\n",
    "\n",
    "apples = 60\n",
    "oranges = 40\n",
    "total = apples + oranges\n",
    "p = apples / (total)\n",
    "q = oranges / (total)"
   ]
  },
  {
   "cell_type": "raw",
   "metadata": {},
   "source": [
    "Now we take a random sample of 20 fruits with replacement. \n",
    "What is the probability that the first 5 fruits are apples?"
   ]
  },
  {
   "cell_type": "raw",
   "metadata": {},
   "source": [
    "Hint: (p**5)*(q**15)"
   ]
  },
  {
   "cell_type": "code",
   "execution_count": 40,
   "metadata": {},
   "outputs": [
    {
     "data": {
      "text/plain": [
       "8.349416423424006e-08"
      ]
     },
     "execution_count": 40,
     "metadata": {},
     "output_type": "execute_result"
    }
   ],
   "source": [
    "(p**5) * (q**15)"
   ]
  },
  {
   "cell_type": "markdown",
   "metadata": {},
   "source": [
    "## Binomial Distribution"
   ]
  },
  {
   "cell_type": "raw",
   "metadata": {},
   "source": [
    "Similar to the above problem, this time again we pick 20 fruits. \n",
    "What is the probability that this time we picked 5 apples and 15 oranges?\n",
    "Please note that this time we are not asking specifically about the \n",
    "first picks!!"
   ]
  },
  {
   "cell_type": "code",
   "execution_count": 78,
   "metadata": {},
   "outputs": [
    {
     "data": {
      "text/plain": [
       "0.0012944935222876579"
      ]
     },
     "execution_count": 78,
     "metadata": {},
     "output_type": "execute_result"
    }
   ],
   "source": [
    "import math\n",
    "\n",
    "n = 20\n",
    "x = 5\n",
    "p = apples / (total)\n",
    "\n",
    "def combination(a, b):\n",
    "    return math.factorial(a) / (math.factorial(b) * math.factorial(a - b))\n",
    "\n",
    "def binomial_pmf(n, x, p):\n",
    "    return combination(n, x) * p**x * q**(n - x)\n",
    "\n",
    "binomial_pmf(n, x, p)"
   ]
  },
  {
   "cell_type": "raw",
   "metadata": {},
   "source": [
    "During the lectures we also talked about CDF \n",
    "Consider the same problem as above except that this time we are \n",
    "interesed in the probability that less than 5 apples were selected. \n",
    "Compute the probability?"
   ]
  },
  {
   "cell_type": "code",
   "execution_count": 82,
   "metadata": {},
   "outputs": [
    {
     "data": {
      "text/plain": [
       "0.0016115246434562878"
      ]
     },
     "execution_count": 82,
     "metadata": {},
     "output_type": "execute_result"
    }
   ],
   "source": [
    "n = 20\n",
    "x = 5\n",
    "p = apples / (total)\n",
    "\n",
    "prob = 0\n",
    "\n",
    "def binomial_cmf(n, x, p):\n",
    "    prob = 0\n",
    "    for i in range(x + 1):\n",
    "        prob = prob + binomial_pmf(n, i, p)\n",
    "    return prob\n",
    "\n",
    "binomial_cmf(n, x, p)"
   ]
  },
  {
   "cell_type": "raw",
   "metadata": {},
   "source": [
    "Plot the probability distributiom function for the above binomial \n",
    "distribution. \n",
    "Hint: The range of x in a binomial distribution is from 0 to 'n'"
   ]
  },
  {
   "cell_type": "code",
   "execution_count": 128,
   "metadata": {},
   "outputs": [
    {
     "data": {
      "text/plain": [
       "Text(0.5, 1.0, 'Binomial CMF')"
      ]
     },
     "execution_count": 128,
     "metadata": {},
     "output_type": "execute_result"
    },
    {
     "data": {
      "image/png": "[encoded data removed]",
      "text/plain": [
       "<Figure size 432x288 with 1 Axes>"
      ]
     },
     "metadata": {},
     "output_type": "display_data"
    }
   ],
   "source": [
    "import pandas as pd\n",
    "import numpy as np\n",
    "import seaborn as sns\n",
    "import matplotlib.pyplot as plt\n",
    "\n",
    "distribution_data = {'x': [], 'P(X <= x)': []}\n",
    "\n",
    "n = 20\n",
    "p = apples / (total)\n",
    "\n",
    "for i in range(n + 1):\n",
    "    distribution_data['x'].append(i)\n",
    "    distribution_data['P(X <= x)'].append(binomial_cmf(n, i, p))\n",
    "\n",
    "distribution_data\n",
    "distribution = pd.DataFrame(distribution_data)\n",
    "\n",
    "sns.set_style('ticks')\n",
    "sns.barplot(x = 'x', y = 'P(X <= x)', color = sns.color_palette('tab20')[1], data = distribution, alpha = .8)\n",
    "plt.title('Binomial CMF')"
   ]
  },
  {
   "cell_type": "code",
   "execution_count": 121,
   "metadata": {},
   "outputs": [
    {
     "data": {
      "text/plain": [
       "Text(0.5, 1.0, 'Binomial CDF')"
      ]
     },
     "execution_count": 121,
     "metadata": {},
     "output_type": "execute_result"
    },
    {
     "data": {
      "image/png": "[encoded data removed]",
      "text/plain": [
       "<Figure size 432x288 with 1 Axes>"
      ]
     },
     "metadata": {},
     "output_type": "display_data"
    }
   ],
   "source": [
    "distribution_data = {'x': [], 'P(X = x)': []}\n",
    "\n",
    "n = 20\n",
    "p = apples / (total)\n",
    "\n",
    "for i in range(n + 1):\n",
    "    distribution_data['x'].append(i)\n",
    "    distribution_data['P(X = x)'].append(binomial_pmf(n, i, p))\n",
    "\n",
    "distribution_data\n",
    "distribution = pd.DataFrame(distribution_data)\n",
    "\n",
    "sns.set_style('ticks')\n",
    "sns.barplot(x = 'x', y = 'P(X = x)', color = sns.color_palette('tab20')[0], data = distribution, alpha = .8)\n",
    "plt.title('Binomial CDF')"
   ]
  },
  {
   "cell_type": "markdown",
   "metadata": {},
   "source": [
    "## Poisson Distribution"
   ]
  },
  {
   "cell_type": "raw",
   "metadata": {},
   "source": [
    "In this problem you are required to use the Math library in python to \n",
    "solve the problem"
   ]
  },
  {
   "cell_type": "raw",
   "metadata": {},
   "source": [
    "In the UEFA champions league tournament, the average number of goals \n",
    "scored in a match is 2.3. What is the probability that the number of \n",
    "goals scored in a match is 5?"
   ]
  },
  {
   "cell_type": "raw",
   "metadata": {},
   "source": [
    "Hint: Use the exp() in the math library \n",
    "And to find the factorial, you can use the following code: \n",
    "\n",
    "import math\n",
    "math.factorial(n)"
   ]
  },
  {
   "cell_type": "code",
   "execution_count": 89,
   "metadata": {},
   "outputs": [
    {
     "data": {
      "text/plain": [
       "0.0537750255819468"
      ]
     },
     "execution_count": 89,
     "metadata": {},
     "output_type": "execute_result"
    }
   ],
   "source": [
    "def poisson_pmf(x, lam):\n",
    "    return math.exp(-lam) * lam**x / math.factorial(x)\n",
    "\n",
    "lam = 2.3\n",
    "x = 5\n",
    "\n",
    "poisson_pmf(x, lam)"
   ]
  },
  {
   "cell_type": "raw",
   "metadata": {},
   "source": [
    "Draw a poisson probability distribution plot for the number of goals \n",
    "to be between 0 to 10"
   ]
  },
  {
   "cell_type": "code",
   "execution_count": 129,
   "metadata": {},
   "outputs": [
    {
     "data": {
      "text/plain": [
       "Text(0.5, 1.0, 'Poisson PMF')"
      ]
     },
     "execution_count": 129,
     "metadata": {},
     "output_type": "execute_result"
    },
    {
     "data": {
      "image/png": "[encoded data removed]",
      "text/plain": [
       "<Figure size 432x288 with 1 Axes>"
      ]
     },
     "metadata": {},
     "output_type": "display_data"
    }
   ],
   "source": [
    "distribution_data = {'x': [], 'P(X = x)': []}\n",
    "\n",
    "lam = 2.3\n",
    "x = 5\n",
    "\n",
    "for i in range(11):\n",
    "    distribution_data['x'].append(i)\n",
    "    distribution_data['P(X = x)'].append(poisson_pmf(i, lam))\n",
    "\n",
    "distribution_data\n",
    "distribution = pd.DataFrame(distribution_data)\n",
    "\n",
    "sns.set_style('ticks')\n",
    "sns.barplot(x = 'x', y = 'P(X = x)', data = distribution, color = sns.color_palette('tab20', 3)[2], alpha = .8)\n",
    "plt.title('Poisson PMF')    "
   ]
  },
  {
   "cell_type": "code",
   "execution_count": null,
   "metadata": {},
   "outputs": [],
   "source": []
  }
 ],
 "metadata": {
  "kernelspec": {
   "display_name": "Python 3",
   "language": "python",
   "name": "python3"
  },
  "language_info": {
   "codemirror_mode": {
    "name": "ipython",
    "version": 3
   },
   "file_extension": ".py",
   "mimetype": "text/x-python",
   "name": "python",
   "nbconvert_exporter": "python",
   "pygments_lexer": "ipython3",
   "version": "3.7.3"
  }
 },
 "nbformat": 4,
 "nbformat_minor": 2
}
