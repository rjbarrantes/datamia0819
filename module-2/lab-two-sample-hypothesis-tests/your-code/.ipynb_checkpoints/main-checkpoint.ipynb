{
 "cells": [
  {
   "cell_type": "markdown",
   "metadata": {},
   "source": [
    "# Before your start:\n",
    "- Read the README.md file\n",
    "- Comment as much as you can and use the resources (README.md file)\n",
    "- Happy learning!"
   ]
  },
  {
   "cell_type": "code",
   "execution_count": 10,
   "metadata": {},
   "outputs": [],
   "source": [
    "import numpy as np\n",
    "import pandas as pd"
   ]
  },
  {
   "cell_type": "markdown",
   "metadata": {},
   "source": [
    "# Challenge 1 - Independent Sample T-tests\n",
    "\n",
    "In this challenge, we will be using the Pokemon dataset. Before applying statistical methods to this data, let's first examine the data.\n",
    "\n",
    "To load the data, run the code below."
   ]
  },
  {
   "cell_type": "code",
   "execution_count": 11,
   "metadata": {},
   "outputs": [],
   "source": [
    "pokemon = pd.read_csv('../pokemon.csv')"
   ]
  },
  {
   "cell_type": "markdown",
   "metadata": {},
   "source": [
    "Let's start off by looking at the `head` function in the cell below."
   ]
  },
  {
   "cell_type": "code",
   "execution_count": 12,
   "metadata": {},
   "outputs": [
    {
     "data": {
      "text/html": [
       "<div>\n",
       "<style scoped>\n",
       "    .dataframe tbody tr th:only-of-type {\n",
       "        vertical-align: middle;\n",
       "    }\n",
       "\n",
       "    .dataframe tbody tr th {\n",
       "        vertical-align: top;\n",
       "    }\n",
       "\n",
       "    .dataframe thead th {\n",
       "        text-align: right;\n",
       "    }\n",
       "</style>\n",
       "<table border=\"1\" class=\"dataframe\">\n",
       "  <thead>\n",
       "    <tr style=\"text-align: right;\">\n",
       "      <th></th>\n",
       "      <th>#</th>\n",
       "      <th>Name</th>\n",
       "      <th>Type 1</th>\n",
       "      <th>Type 2</th>\n",
       "      <th>Total</th>\n",
       "      <th>HP</th>\n",
       "      <th>Attack</th>\n",
       "      <th>Defense</th>\n",
       "      <th>Sp. Atk</th>\n",
       "      <th>Sp. Def</th>\n",
       "      <th>Speed</th>\n",
       "      <th>Generation</th>\n",
       "      <th>Legendary</th>\n",
       "    </tr>\n",
       "  </thead>\n",
       "  <tbody>\n",
       "    <tr>\n",
       "      <th>0</th>\n",
       "      <td>1</td>\n",
       "      <td>Bulbasaur</td>\n",
       "      <td>Grass</td>\n",
       "      <td>Poison</td>\n",
       "      <td>318</td>\n",
       "      <td>45</td>\n",
       "      <td>49</td>\n",
       "      <td>49</td>\n",
       "      <td>65</td>\n",
       "      <td>65</td>\n",
       "      <td>45</td>\n",
       "      <td>1</td>\n",
       "      <td>False</td>\n",
       "    </tr>\n",
       "    <tr>\n",
       "      <th>1</th>\n",
       "      <td>2</td>\n",
       "      <td>Ivysaur</td>\n",
       "      <td>Grass</td>\n",
       "      <td>Poison</td>\n",
       "      <td>405</td>\n",
       "      <td>60</td>\n",
       "      <td>62</td>\n",
       "      <td>63</td>\n",
       "      <td>80</td>\n",
       "      <td>80</td>\n",
       "      <td>60</td>\n",
       "      <td>1</td>\n",
       "      <td>False</td>\n",
       "    </tr>\n",
       "    <tr>\n",
       "      <th>2</th>\n",
       "      <td>3</td>\n",
       "      <td>Venusaur</td>\n",
       "      <td>Grass</td>\n",
       "      <td>Poison</td>\n",
       "      <td>525</td>\n",
       "      <td>80</td>\n",
       "      <td>82</td>\n",
       "      <td>83</td>\n",
       "      <td>100</td>\n",
       "      <td>100</td>\n",
       "      <td>80</td>\n",
       "      <td>1</td>\n",
       "      <td>False</td>\n",
       "    </tr>\n",
       "    <tr>\n",
       "      <th>3</th>\n",
       "      <td>3</td>\n",
       "      <td>VenusaurMega Venusaur</td>\n",
       "      <td>Grass</td>\n",
       "      <td>Poison</td>\n",
       "      <td>625</td>\n",
       "      <td>80</td>\n",
       "      <td>100</td>\n",
       "      <td>123</td>\n",
       "      <td>122</td>\n",
       "      <td>120</td>\n",
       "      <td>80</td>\n",
       "      <td>1</td>\n",
       "      <td>False</td>\n",
       "    </tr>\n",
       "    <tr>\n",
       "      <th>4</th>\n",
       "      <td>4</td>\n",
       "      <td>Charmander</td>\n",
       "      <td>Fire</td>\n",
       "      <td>NaN</td>\n",
       "      <td>309</td>\n",
       "      <td>39</td>\n",
       "      <td>52</td>\n",
       "      <td>43</td>\n",
       "      <td>60</td>\n",
       "      <td>50</td>\n",
       "      <td>65</td>\n",
       "      <td>1</td>\n",
       "      <td>False</td>\n",
       "    </tr>\n",
       "  </tbody>\n",
       "</table>\n",
       "</div>"
      ],
      "text/plain": [
       "   #                   Name Type 1  Type 2  Total  HP  Attack  Defense  \\\n",
       "0  1              Bulbasaur  Grass  Poison    318  45      49       49   \n",
       "1  2                Ivysaur  Grass  Poison    405  60      62       63   \n",
       "2  3               Venusaur  Grass  Poison    525  80      82       83   \n",
       "3  3  VenusaurMega Venusaur  Grass  Poison    625  80     100      123   \n",
       "4  4             Charmander   Fire     NaN    309  39      52       43   \n",
       "\n",
       "   Sp. Atk  Sp. Def  Speed  Generation  Legendary  \n",
       "0       65       65     45           1      False  \n",
       "1       80       80     60           1      False  \n",
       "2      100      100     80           1      False  \n",
       "3      122      120     80           1      False  \n",
       "4       60       50     65           1      False  "
      ]
     },
     "execution_count": 12,
     "metadata": {},
     "output_type": "execute_result"
    }
   ],
   "source": [
    "pokemon.head()"
   ]
  },
  {
   "cell_type": "markdown",
   "metadata": {},
   "source": [
    "The first thing we would like to do is compare the legendary Pokemon to the regular Pokemon. To do this, we should examine the data further. What is the count of legendary vs. non legendary Pokemons?"
   ]
  },
  {
   "cell_type": "code",
   "execution_count": 14,
   "metadata": {},
   "outputs": [
    {
     "name": "stdout",
     "output_type": "stream",
     "text": [
      "There are 65 legendary and 735 non-legendary Pokemon.\n"
     ]
    }
   ],
   "source": [
    "legendary_poke = pokemon.loc[pokemon['Legendary'] == True]\n",
    "nonlegend_poke = pokemon.loc[pokemon['Legendary'] == False]\n",
    "\n",
    "n_legendary = legendary_poke.shape[0]\n",
    "n_nonlegend = nonlegend_poke.shape[0]\n",
    "\n",
    "print(f'There are {n_legendary} legendary and {n_nonlegend} non-legendary Pokemon.')"
   ]
  },
  {
   "cell_type": "markdown",
   "metadata": {},
   "source": [
    "Compute the mean and standard deviation of the total points for both legendary and non-legendary Pokemon."
   ]
  },
  {
   "cell_type": "code",
   "execution_count": 15,
   "metadata": {},
   "outputs": [
    {
     "name": "stdout",
     "output_type": "stream",
     "text": [
      "Avg Total Points - Legendary = 637.38\n",
      "Avg Total Points - Non-Legendary = 417.21\n",
      "SD Total Points - Legendary = 60.94\n",
      "SD Total Points - Non-Legendary = 106.76\n"
     ]
    }
   ],
   "source": [
    "x̄_legendary = legendary_poke['Total'].mean()\n",
    "x̄_nonlegend = nonlegend_poke['Total'].mean()\n",
    "s_legendary = legendary_poke['Total'].std()\n",
    "s_nonlegend = nonlegend_poke['Total'].std()\n",
    "\n",
    "print(f'Avg Total Points - Legendary = {round(x̄_legendary, 2)}')\n",
    "print(f'Avg Total Points - Non-Legendary = {round(x̄_nonlegend, 2)}')\n",
    "print(f'SD Total Points - Legendary = {round(s_legendary, 2)}')\n",
    "print(f'SD Total Points - Non-Legendary = {round(s_nonlegend, 2)}')"
   ]
  },
  {
   "cell_type": "markdown",
   "metadata": {},
   "source": [
    "The computation of the mean might give us a clue regarding how the statistical test may turn out; However, it certainly does not prove whether there is a significant difference between the two groups.\n",
    "\n",
    "In the cell below, use the `ttest_ind` function in `scipy.stats` to compare the the total points for legendary and non-legendary Pokemon. Since we do not have any information about the population, assume the variances are not equal."
   ]
  },
  {
   "cell_type": "code",
   "execution_count": 16,
   "metadata": {},
   "outputs": [
    {
     "name": "stdout",
     "output_type": "stream",
     "text": [
      "Group 0 is comprised of non-legendary Pokemon.\n",
      "Group 1 is comprised of legendary Pokemon.\n",
      "\n",
      "x̄0 = 417.21\n",
      "x̄1 = 637.38\n",
      "\n",
      "t = -25.8336\n",
      "p-value = 0.0\n",
      "\n",
      "There is enough evidence to reject the H0 (μ0 = μ1) for H1 (μ0 ≠ μ1).\n"
     ]
    }
   ],
   "source": [
    "from scipy.stats import ttest_ind\n",
    "\n",
    "H0 = 'μ0 = μ1'\n",
    "H1 = 'μ0 ≠ μ1'\n",
    "confidence = .95\n",
    "sides = '≠' in H1\n",
    "\n",
    "print('Group 0 is comprised of non-legendary Pokemon.')\n",
    "print('Group 1 is comprised of legendary Pokemon.\\n')\n",
    "\n",
    "data0 = nonlegend_poke['Total']\n",
    "data1 = legendary_poke['Total']\n",
    "\n",
    "results = ttest_ind(data0, data1, equal_var = False)\n",
    "print(f'x̄0 = {round(data0.mean(), 2)}')\n",
    "print(f'x̄1 = {round(data1.mean(), 2)}\\n')\n",
    "print(f't = {round(results[0], 4)}')\n",
    "\n",
    "if sides:\n",
    "    print(f'p-value = {round(results[1], 4)}\\n')\n",
    "    if results[1] < 1 - confidence:\n",
    "        print(f'There is enough evidence to reject the H0 ({H0}) for H1 ({H1}).')\n",
    "    else:\n",
    "        print(f'There is NOT enough evidence to reject the H0 ({H0}) for H1 ({H1}).')\n",
    "else:\n",
    "    print(f'p-value = {round(results[1] / 2, 4)}\\n')\n",
    "    if results[1] / 2 < 1 - confidence:\n",
    "        print(f'There is enough evidence to reject the H0 ({H0}) for H1 ({H1}).')\n",
    "    else:\n",
    "        print(f'There is NOT enough evidence to reject the H0 ({H0}) for H1 ({H1}).')"
   ]
  },
  {
   "cell_type": "markdown",
   "metadata": {},
   "source": [
    "What do you conclude from this test? Write your conclusions below."
   ]
  },
  {
   "cell_type": "code",
   "execution_count": 17,
   "metadata": {},
   "outputs": [],
   "source": [
    "# Legendary Pokemon have significantly higher Total points compared to non-legendary Pokemon, but duh!"
   ]
  },
  {
   "cell_type": "markdown",
   "metadata": {},
   "source": [
    "How about we try to compare the different types of pokemon? In the cell below, list the types of Pokemon from column `Type 1` and the count of each type."
   ]
  },
  {
   "cell_type": "code",
   "execution_count": 18,
   "metadata": {},
   "outputs": [
    {
     "data": {
      "text/plain": [
       "Water       112\n",
       "Normal       98\n",
       "Grass        70\n",
       "Bug          69\n",
       "Psychic      57\n",
       "Fire         52\n",
       "Electric     44\n",
       "Rock         44\n",
       "Dragon       32\n",
       "Ghost        32\n",
       "Ground       32\n",
       "Dark         31\n",
       "Poison       28\n",
       "Steel        27\n",
       "Fighting     27\n",
       "Ice          24\n",
       "Fairy        17\n",
       "Flying        4\n",
       "Name: Type 1, dtype: int64"
      ]
     },
     "execution_count": 18,
     "metadata": {},
     "output_type": "execute_result"
    }
   ],
   "source": [
    "pokemon['Type 1'].value_counts()"
   ]
  },
  {
   "cell_type": "markdown",
   "metadata": {},
   "source": [
    "Since water is the largest group of Pokemon, compare the mean and standard deviation of water Pokemon to all other Pokemon."
   ]
  },
  {
   "cell_type": "code",
   "execution_count": 19,
   "metadata": {},
   "outputs": [
    {
     "name": "stdout",
     "output_type": "stream",
     "text": [
      "Avg Total Points - Water = 430.46\n",
      "Avg Total Points - Other = 435.1\n",
      "SD Total Points - Water = 113.19\n",
      "SD Total Points - Other = 119.96\n"
     ]
    },
    {
     "name": "stderr",
     "output_type": "stream",
     "text": [
      "C:\\Users\\rbarr\\Anaconda3\\lib\\site-packages\\pandas\\core\\ops.py:1649: FutureWarning: elementwise comparison failed; returning scalar instead, but in the future will perform elementwise comparison\n",
      "  result = method(y)\n"
     ]
    }
   ],
   "source": [
    "water_poke = pokemon.loc[pokemon['Type 1'] == 'Water']\n",
    "other_poke = pokemon.loc[pokemon['Legendary'] != 'Water']\n",
    "\n",
    "x̄_water = water_poke['Total'].mean()\n",
    "x̄_other = other_poke['Total'].mean()\n",
    "s_water = water_poke['Total'].std()\n",
    "s_other = other_poke['Total'].std()\n",
    "\n",
    "print(f'Avg Total Points - Water = {round(x̄_water, 2)}')\n",
    "print(f'Avg Total Points - Other = {round(x̄_other, 2)}')\n",
    "print(f'SD Total Points - Water = {round(s_water, 2)}')\n",
    "print(f'SD Total Points - Other = {round(s_other, 2)}')"
   ]
  },
  {
   "cell_type": "markdown",
   "metadata": {},
   "source": [
    "Perform a hypothesis test comparing the mean of total points for water Pokemon to all non-water Pokemon. Assume the variances are equal. "
   ]
  },
  {
   "cell_type": "code",
   "execution_count": 20,
   "metadata": {},
   "outputs": [
    {
     "name": "stdout",
     "output_type": "stream",
     "text": [
      "Group 0 is comprised of water-type Pokemon.\n",
      "Group 1 is comprised of non-water-type Pokemon.\n",
      "\n",
      "x̄0 = 430.46\n",
      "x̄1 = 435.1\n",
      "\n",
      "t = -0.3866\n",
      "p-value = 0.6992\n",
      "\n",
      "There is NOT enough evidence to reject the H0 (μ0 = μ1) for H1 (μ0 ≠ μ1).\n"
     ]
    }
   ],
   "source": [
    "from scipy.stats import ttest_ind\n",
    "\n",
    "H0 = 'μ0 = μ1'\n",
    "H1 = 'μ0 ≠ μ1'\n",
    "confidence = .95\n",
    "sides = '≠' in H1\n",
    "\n",
    "print('Group 0 is comprised of water-type Pokemon.')\n",
    "print('Group 1 is comprised of non-water-type Pokemon.\\n')\n",
    "\n",
    "data0 = water_poke['Total']\n",
    "data1 = other_poke['Total']\n",
    "\n",
    "results = ttest_ind(data0, data1, equal_var = True)\n",
    "print(f'x̄0 = {round(data0.mean(), 2)}')\n",
    "print(f'x̄1 = {round(data1.mean(), 2)}\\n')\n",
    "print(f't = {round(results[0], 4)}')\n",
    "\n",
    "if sides:\n",
    "    print(f'p-value = {round(results[1], 4)}\\n')\n",
    "    if results[1] < 1 - confidence:\n",
    "        print(f'There is enough evidence to reject the H0 ({H0}) for H1 ({H1}).')\n",
    "    else:\n",
    "        print(f'There is NOT enough evidence to reject the H0 ({H0}) for H1 ({H1}).')\n",
    "else:\n",
    "    print(f'p-value = {round(results[1] / 2, 4)}\\n')\n",
    "    if results[1] / 2 < 1 - confidence:\n",
    "        print(f'There is enough evidence to reject the H0 ({H0}) for H1 ({H1}).')\n",
    "    else:\n",
    "        print(f'There is NOT enough evidence to reject the H0 ({H0}) for H1 ({H1}).')"
   ]
  },
  {
   "cell_type": "markdown",
   "metadata": {},
   "source": [
    "Write your conclusion below."
   ]
  },
  {
   "cell_type": "code",
   "execution_count": 21,
   "metadata": {},
   "outputs": [],
   "source": [
    "# Water-type Pokemon and non-water-type pokemon do not differ significantly with respect to Total points."
   ]
  },
  {
   "cell_type": "markdown",
   "metadata": {},
   "source": [
    "# Challenge 2 - Matched Pairs Test\n",
    "\n",
    "In this challenge we will compare dependent samples of data describing our Pokemon. Our goal is to see whether there is a significant difference between each Pokemon's defense and attack scores. Our hypothesis is that the defense and attack scores are equal. In the cell below, import the `ttest_rel` function from `scipy.stats` and compare the two columns to see if there is a statistically significant difference between them."
   ]
  },
  {
   "cell_type": "code",
   "execution_count": 22,
   "metadata": {},
   "outputs": [
    {
     "name": "stdout",
     "output_type": "stream",
     "text": [
      "Difference scores are determined by Defense - Attack.\n",
      "\n",
      "x̄d = -5.16\n",
      "\n",
      "t = -4.3256\n",
      "p-value = 0.0\n",
      "\n",
      "There is enough evidence to reject the H0 (μ0 = μ1) for H1 (μ0 ≠ μ1).\n"
     ]
    }
   ],
   "source": [
    "from scipy.stats import ttest_rel\n",
    "\n",
    "H0 = 'μ0 = μ1'\n",
    "H1 = 'μ0 ≠ μ1'\n",
    "confidence = .95\n",
    "sides = '≠' in H1\n",
    "\n",
    "print('Difference scores are determined by Defense - Attack.\\n')\n",
    "\n",
    "data0 = pokemon['Defense']\n",
    "data1 = pokemon['Attack']\n",
    "\n",
    "results = ttest_rel(data0, data1)\n",
    "print(f'x̄d = {round((data0 - data1).mean(), 2)}\\n')\n",
    "print(f't = {round(results[0], 4)}')\n",
    "\n",
    "if sides:\n",
    "    print(f'p-value = {round(results[1], 4)}\\n')\n",
    "    if results[1] < 1 - confidence:\n",
    "        print(f'There is enough evidence to reject the H0 ({H0}) for H1 ({H1}).')\n",
    "    else:\n",
    "        print(f'There is NOT enough evidence to reject the H0 ({H0}) for H1 ({H1}).')\n",
    "else:\n",
    "    print(f'p-value = {round(results[1] / 2, 4)}\\n')\n",
    "    if results[1] / 2 < 1 - confidence:\n",
    "        print(f'There is enough evidence to reject the H0 ({H0}) for H1 ({H1}).')\n",
    "    else:\n",
    "        print(f'There is NOT enough evidence to reject the H0 ({H0}) for H1 ({H1}).')"
   ]
  },
  {
   "cell_type": "markdown",
   "metadata": {},
   "source": [
    "Describe the results of the test in the cell below."
   ]
  },
  {
   "cell_type": "code",
   "execution_count": 23,
   "metadata": {},
   "outputs": [],
   "source": [
    "# Pokemon have significantly higher Attack scores compared to their respective Defense scores."
   ]
  },
  {
   "cell_type": "markdown",
   "metadata": {},
   "source": [
    "We are also curious about whether therer is a significant difference between the mean of special defense and the mean of special attack. Perform the hypothesis test in the cell below. "
   ]
  },
  {
   "cell_type": "code",
   "execution_count": 25,
   "metadata": {},
   "outputs": [
    {
     "name": "stdout",
     "output_type": "stream",
     "text": [
      "Difference scores are determined by Special Defense - Special Attack.\n",
      "\n",
      "x̄d = -0.92\n",
      "\n",
      "t = -0.854\n",
      "p-value = 0.3934\n",
      "\n",
      "There is NOT enough evidence to reject the H0 (μ0 = μ1) for H1 (μ0 ≠ μ1).\n"
     ]
    }
   ],
   "source": [
    "H0 = 'μ0 = μ1'\n",
    "H1 = 'μ0 ≠ μ1'\n",
    "confidence = .95\n",
    "sides = '≠' in H1\n",
    "\n",
    "print('Difference scores are determined by Special Defense - Special Attack.\\n')\n",
    "\n",
    "data0 = pokemon['Sp. Def']\n",
    "data1 = pokemon['Sp. Atk']\n",
    "\n",
    "results = ttest_rel(data0, data1)\n",
    "print(f'x̄d = {round((data0 - data1).mean(), 2)}\\n')\n",
    "print(f't = {round(results[0], 4)}')\n",
    "\n",
    "if sides:\n",
    "    print(f'p-value = {round(results[1], 4)}\\n')\n",
    "    if results[1] < 1 - confidence:\n",
    "        print(f'There is enough evidence to reject the H0 ({H0}) for H1 ({H1}).')\n",
    "    else:\n",
    "        print(f'There is NOT enough evidence to reject the H0 ({H0}) for H1 ({H1}).')\n",
    "else:\n",
    "    print(f'p-value = {round(results[1] / 2, 4)}\\n')\n",
    "    if results[1] / 2 < 1 - confidence:\n",
    "        print(f'There is enough evidence to reject the H0 ({H0}) for H1 ({H1}).')\n",
    "    else:\n",
    "        print(f'There is NOT enough evidence to reject the H0 ({H0}) for H1 ({H1}).')"
   ]
  },
  {
   "cell_type": "markdown",
   "metadata": {},
   "source": [
    "Describe the results of the test in the cell below."
   ]
  },
  {
   "cell_type": "code",
   "execution_count": 26,
   "metadata": {},
   "outputs": [],
   "source": [
    "# Pokemon Special Defense and Special Attack scores do not differ, respectively."
   ]
  },
  {
   "cell_type": "markdown",
   "metadata": {},
   "source": [
    "As you may recall, a two sample matched pairs test can also be expressed as a one sample test of the difference between the two dependent columns.\n",
    "\n",
    "Import the `ttest_1samp` function and perform a one sample t-test of the difference between defense and attack. Test the hypothesis that the difference between the means is zero. Confirm that the results of the test are the same."
   ]
  },
  {
   "cell_type": "code",
   "execution_count": 27,
   "metadata": {},
   "outputs": [
    {
     "name": "stdout",
     "output_type": "stream",
     "text": [
      "Difference scores are determined by Defense - Attack.\n",
      "\n",
      "x̄d = -5.16\n",
      "\n",
      "t = -4.3256\n",
      "p-value = 0.0\n",
      "\n",
      "There is enough evidence to reject the H0 (μd = 0) for H1 (μd ≠ 0).\n"
     ]
    }
   ],
   "source": [
    "from scipy.stats import ttest_1samp\n",
    "\n",
    "H0 = 'μd = 0'\n",
    "H1 = 'μd ≠ 0'\n",
    "μd = 0\n",
    "confidence = .95\n",
    "sides = '≠' in H1\n",
    "\n",
    "print('Difference scores are determined by Defense - Attack.\\n')\n",
    "\n",
    "data = pokemon['Defense'] - pokemon['Attack']\n",
    "\n",
    "results = ttest_1samp(data, μd)\n",
    "print(f'x̄d = {round(data.mean(), 2)}\\n')\n",
    "print(f't = {round(results[0], 4)}')\n",
    "\n",
    "if sides:\n",
    "    print(f'p-value = {round(results[1], 4)}\\n')\n",
    "    if results[1] < 1 - confidence:\n",
    "        print(f'There is enough evidence to reject the H0 ({H0}) for H1 ({H1}).')\n",
    "    else:\n",
    "        print(f'There is NOT enough evidence to reject the H0 ({H0}) for H1 ({H1}).')\n",
    "else:\n",
    "    print(f'p-value = {round(results[1] / 2, 4)}\\n')\n",
    "    if results[1] / 2 < 1 - confidence:\n",
    "        print(f'There is enough evidence to reject the H0 ({H0}) for H1 ({H1}).')\n",
    "    else:\n",
    "        print(f'There is NOT enough evidence to reject the H0 ({H0}) for H1 ({H1}).')"
   ]
  },
  {
   "cell_type": "markdown",
   "metadata": {},
   "source": [
    "# Bonus Challenge - The Chi-Square Test\n",
    "\n",
    "The Chi-Square test is used to determine whether there is a statistically significant difference in frequencies. In other words, we are testing whether there is a relationship between categorical variables or rather when the variables are independent. This test is an alternative to Fisher's exact test and is used in scenarios where sample sizes are larger. However, with a large enough sample size, both tests produce similar results. Read more about the Chi Squared test [here](https://en.wikipedia.org/wiki/Chi-squared_test).\n",
    "\n",
    "In the cell below, create a contingency table using `pd.crosstab` comparing whether a Pokemon is legenadary or not and whether the Type 1 of a Pokemon is water or not."
   ]
  },
  {
   "cell_type": "code",
   "execution_count": 28,
   "metadata": {
    "scrolled": true
   },
   "outputs": [
    {
     "data": {
      "text/html": [
       "<div>\n",
       "<style scoped>\n",
       "    .dataframe tbody tr th:only-of-type {\n",
       "        vertical-align: middle;\n",
       "    }\n",
       "\n",
       "    .dataframe tbody tr th {\n",
       "        vertical-align: top;\n",
       "    }\n",
       "\n",
       "    .dataframe thead th {\n",
       "        text-align: right;\n",
       "    }\n",
       "</style>\n",
       "<table border=\"1\" class=\"dataframe\">\n",
       "  <thead>\n",
       "    <tr style=\"text-align: right;\">\n",
       "      <th>Type 1</th>\n",
       "      <th>False</th>\n",
       "      <th>True</th>\n",
       "    </tr>\n",
       "    <tr>\n",
       "      <th>Legendary</th>\n",
       "      <th></th>\n",
       "      <th></th>\n",
       "    </tr>\n",
       "  </thead>\n",
       "  <tbody>\n",
       "    <tr>\n",
       "      <th>False</th>\n",
       "      <td>627</td>\n",
       "      <td>108</td>\n",
       "    </tr>\n",
       "    <tr>\n",
       "      <th>True</th>\n",
       "      <td>61</td>\n",
       "      <td>4</td>\n",
       "    </tr>\n",
       "  </tbody>\n",
       "</table>\n",
       "</div>"
      ],
      "text/plain": [
       "Type 1     False  True \n",
       "Legendary              \n",
       "False        627    108\n",
       "True          61      4"
      ]
     },
     "execution_count": 28,
     "metadata": {},
     "output_type": "execute_result"
    }
   ],
   "source": [
    "pd.crosstab(pokemon['Legendary'], pokemon['Type 1'] == 'Water')"
   ]
  },
  {
   "cell_type": "markdown",
   "metadata": {},
   "source": [
    "Perform a chi-squared test using the `chi2_contingency` function in `scipy.stats`. You can read the documentation of the function [here](https://docs.scipy.org/doc/scipy-0.15.1/reference/generated/scipy.stats.chi2_contingency.html)."
   ]
  },
  {
   "cell_type": "code",
   "execution_count": 29,
   "metadata": {},
   "outputs": [
    {
     "name": "stdout",
     "output_type": "stream",
     "text": [
      "Water Type  False  True \n",
      "Legendary               \n",
      "False         627    108\n",
      "True           61      4 \n",
      "\n",
      "chisq = 2.9429\n",
      "p-value = 0.0431\n",
      "\n",
      "There is NOT enough evidence to reject the H0 (there is no association between variables) for H1 (there is an association between variables).\n"
     ]
    }
   ],
   "source": [
    "from scipy.stats import chi2_contingency\n",
    "\n",
    "H0 = 'there is no association between variables'\n",
    "H1 = 'there is an association between variables'\n",
    "confidence = .95\n",
    "\n",
    "data = pd.crosstab(pokemon['Legendary'], pokemon['Type 1'].rename('Water Type') == 'Water')\n",
    "print(data, '\\n')\n",
    "\n",
    "results = chi2_contingency(data)\n",
    "print(f'chisq = {round(results[0], 4)}')\n",
    "\n",
    "print(f'p-value = {round(results[1] / 2, 4)}\\n')\n",
    "if results[1] < 1 - confidence:\n",
    "    print(f'There is enough evidence to reject the H0 ({H0}) for H1 ({H1}).')\n",
    "else:\n",
    "    print(f'There is NOT enough evidence to reject the H0 ({H0}) for H1 ({H1}).')"
   ]
  },
  {
   "cell_type": "markdown",
   "metadata": {},
   "source": [
    "Based on a 95% confidence, should we reject the null hypothesis?"
   ]
  },
  {
   "cell_type": "code",
   "execution_count": 19,
   "metadata": {},
   "outputs": [],
   "source": [
    "# Whether a Pokemon is legendary or a water-type are dependent on one other."
   ]
  },
  {
   "cell_type": "code",
   "execution_count": null,
   "metadata": {},
   "outputs": [],
   "source": []
  }
 ],
 "metadata": {
  "kernelspec": {
   "display_name": "Python 3",
   "language": "python",
   "name": "python3"
  },
  "language_info": {
   "codemirror_mode": {
    "name": "ipython",
    "version": 3
   },
   "file_extension": ".py",
   "mimetype": "text/x-python",
   "name": "python",
   "nbconvert_exporter": "python",
   "pygments_lexer": "ipython3",
   "version": "3.7.3"
  }
 },
 "nbformat": 4,
 "nbformat_minor": 2
}
