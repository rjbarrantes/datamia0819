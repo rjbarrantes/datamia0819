{
 "cells": [
  {
   "cell_type": "code",
   "execution_count": null,
   "metadata": {},
   "outputs": [],
   "source": [
    "royal_flush\n",
    "\n",
    "4suitschoose1 / 52cardschoose5\n",
    "4C1 / 52C5"
   ]
  },
  {
   "cell_type": "code",
   "execution_count": null,
   "metadata": {},
   "outputs": [],
   "source": [
    "straight_flush not royal\n",
    "\n",
    "(10flushesinsuitchoose1 * 4suitschoose1 - 4suitschoose1) / 52cardschoose5\n",
    "(10C1 * 4C1 - 4C1) / 52C5"
   ]
  },
  {
   "cell_type": "code",
   "execution_count": null,
   "metadata": {},
   "outputs": [],
   "source": [
    "four_of_a_kind\n",
    "\n",
    "13valuesinsuitchoose1 * 12valuesleftinsuitchoose1 * 4suitschoose1 / 52cardschoose5\n",
    "13C1 * 12C1 * 4C1 / 52C5"
   ]
  },
  {
   "cell_type": "code",
   "execution_count": null,
   "metadata": {},
   "outputs": [],
   "source": [
    "full_house\n",
    "\n",
    "13valuesinsuitchoose1 * 4suitschoose3 * 12valuesleftinsuitchoose1 * 4suitschoose1 / 52cardschoose5\n",
    "13C1 * 4C3 * 12C1 * 4C2 / 52C5"
   ]
  },
  {
   "cell_type": "code",
   "execution_count": null,
   "metadata": {},
   "outputs": [],
   "source": [
    "flush not royal or straight\n",
    "\n",
    "(13valuesinsuitchoose5 * 4suitschoose1 - 10flushesinsuitchoose1 * 4suitschoose1) / 52cardschoose5 = \n",
    "(135 * 4C1 - 10C1 * 4C1) / 52C5"
   ]
  },
  {
   "cell_type": "code",
   "execution_count": 1,
   "metadata": {},
   "outputs": [
    {
     "data": {
      "text/plain": [
       "Ttest_1sampResult(statistic=-2.760973268004801, pvalue=0.006868766933712785)"
      ]
     },
     "execution_count": 1,
     "metadata": {},
     "output_type": "execute_result"
    }
   ],
   "source": [
    "import numpy as np\n",
    "from scipy.stats import ttest_1samp\n",
    "patients = np.random.normal(5.1, 1.6, 100)\n",
    "ttest_1samp(patients, 5.7)"
   ]
  },
  {
   "cell_type": "code",
   "execution_count": 2,
   "metadata": {},
   "outputs": [
    {
     "data": {
      "text/plain": [
       "5.260748984378487"
      ]
     },
     "execution_count": 2,
     "metadata": {},
     "output_type": "execute_result"
    }
   ],
   "source": [
    "np.mean(patients)"
   ]
  },
  {
   "cell_type": "code",
   "execution_count": null,
   "metadata": {},
   "outputs": [],
   "source": []
  }
 ],
 "metadata": {
  "kernelspec": {
   "display_name": "Python 3",
   "language": "python",
   "name": "python3"
  },
  "language_info": {
   "codemirror_mode": {
    "name": "ipython",
    "version": 3
   },
   "file_extension": ".py",
   "mimetype": "text/x-python",
   "name": "python",
   "nbconvert_exporter": "python",
   "pygments_lexer": "ipython3",
   "version": "3.7.3"
  }
 },
 "nbformat": 4,
 "nbformat_minor": 2
}
