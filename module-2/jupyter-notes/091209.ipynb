{
 "cells": [
  {
   "cell_type": "code",
   "execution_count": 1,
   "metadata": {},
   "outputs": [],
   "source": [
    "# Jar 1 has 40 blue marbles, 30 red marbles, and 30 green marbles.\n",
    "# Jar 2 has 60 blue marbles, 20 red marbles, and 20 green marbles.\n",
    "# Jar 3 has 10 blue marbles, 20 red marbles, and 70 green marbles.\n",
    "\n",
    "# You pick a marble from one of the jars at random, and the marble is green. \n",
    "# What are the probabilities that the marble came from each of the three jars?\n",
    "\n",
    "import numpy as np\n",
    "\n",
    "def bayes_rule(priors, likelihoods):\n",
    "    marg = sum(np.multiply(priors, likelihoods))\n",
    "    post = np.divide(np.multiply(priors, likelihoods), marg)\n",
    "    return post\n",
    "\n",
    "blue = [40, 60, 10]\n",
    "red = [30, 20, 20]\n",
    "green = [30, 20, 70]"
   ]
  },
  {
   "cell_type": "code",
   "execution_count": 2,
   "metadata": {},
   "outputs": [
    {
     "data": {
      "text/plain": [
       "array([0.25      , 0.16666667, 0.58333333])"
      ]
     },
     "execution_count": 2,
     "metadata": {},
     "output_type": "execute_result"
    }
   ],
   "source": [
    "priors = [1/3, 1/3, 1/3]\n",
    "likelihoods = []\n",
    "\n",
    "for i in range(len(blue)):\n",
    "    likelihoods.append(green[i] / (blue[i] + red[i] + green[i]))\n",
    "\n",
    "bayes_rule(priors, likelihoods)"
   ]
  },
  {
   "cell_type": "code",
   "execution_count": 3,
   "metadata": {},
   "outputs": [
    {
     "data": {
      "text/plain": [
       "array([0.36363636, 0.54545455, 0.09090909])"
      ]
     },
     "execution_count": 3,
     "metadata": {},
     "output_type": "execute_result"
    }
   ],
   "source": [
    "likelihoods = []\n",
    "\n",
    "for i in range(len(blue)):\n",
    "    likelihoods.append(blue[i] / (blue[i] + red[i] + green[i]))\n",
    "\n",
    "bayes_rule(priors, likelihoods)"
   ]
  },
  {
   "cell_type": "code",
   "execution_count": 8,
   "metadata": {},
   "outputs": [
    {
     "data": {
      "text/plain": [
       "<matplotlib.axes._subplots.AxesSubplot at 0x20115738390>"
      ]
     },
     "execution_count": 8,
     "metadata": {},
     "output_type": "execute_result"
    },
    {
     "data": {
      "image/png": "[encoded data removed]",
      "text/plain": [
       "<Figure size 432x288 with 1 Axes>"
      ]
     },
     "metadata": {
      "needs_background": "light"
     },
     "output_type": "display_data"
    }
   ],
   "source": [
    "# Suppose we have just launched an online store that sells fidget spinners, and we are trying to estimate what percentage \n",
    "# of visitors to our online store will make a purchase.\n",
    "\n",
    "import pandas as pd\n",
    "\n",
    "n_draws = 100000\n",
    "prior_uniform = pd.Series(np.random.uniform(0, 1, size = n_draws))\n",
    "\n",
    "prior_uniform.hist()"
   ]
  },
  {
   "cell_type": "code",
   "execution_count": 6,
   "metadata": {},
   "outputs": [
    {
     "data": {
      "text/plain": [
       "<matplotlib.axes._subplots.AxesSubplot at 0x201156c20f0>"
      ]
     },
     "execution_count": 6,
     "metadata": {},
     "output_type": "execute_result"
    },
    {
     "data": {
      "image/png": "[encoded data removed]",
      "text/plain": [
       "<Figure size 432x288 with 1 Axes>"
      ]
     },
     "metadata": {
      "needs_background": "light"
     },
     "output_type": "display_data"
    }
   ],
   "source": [
    "observed = 10\n",
    "\n",
    "def generative_binomial_model(*params):\n",
    "    result = np.random.binomial(params[0], params[1])\n",
    "    return result\n",
    "\n",
    "sim_binomial_data = []\n",
    "\n",
    "for i in prior_uniform:\n",
    "    sim_binomial_data.append(generative_binomial_model(50, i))\n",
    "\n",
    "posterior = prior_uniform[list(map(lambda x: x == observed, sim_binomial_data))]\n",
    "\n",
    "posterior.hist()"
   ]
  },
  {
   "cell_type": "code",
   "execution_count": 7,
   "metadata": {},
   "outputs": [
    {
     "data": {
      "text/plain": [
       "count    1949.000000\n",
       "mean        0.210853\n",
       "std         0.056149\n",
       "min         0.061080\n",
       "25%         0.172486\n",
       "50%         0.208455\n",
       "75%         0.246766\n",
       "max         0.442650\n",
       "dtype: float64"
      ]
     },
     "execution_count": 7,
     "metadata": {},
     "output_type": "execute_result"
    }
   ],
   "source": [
    "posterior.describe()"
   ]
  },
  {
   "cell_type": "code",
   "execution_count": null,
   "metadata": {},
   "outputs": [],
   "source": []
  }
 ],
 "metadata": {
  "kernelspec": {
   "display_name": "Python 3",
   "language": "python",
   "name": "python3"
  },
  "language_info": {
   "codemirror_mode": {
    "name": "ipython",
    "version": 3
   },
   "file_extension": ".py",
   "mimetype": "text/x-python",
   "name": "python",
   "nbconvert_exporter": "python",
   "pygments_lexer": "ipython3",
   "version": "3.7.3"
  }
 },
 "nbformat": 4,
 "nbformat_minor": 2
}
