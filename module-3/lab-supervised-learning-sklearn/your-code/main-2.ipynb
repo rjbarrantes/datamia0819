{
 "cells": [
  {
   "cell_type": "markdown",
   "metadata": {},
   "source": [
    "# Linear Regression\n"
   ]
  },
  {
   "cell_type": "code",
   "execution_count": 2,
   "metadata": {},
   "outputs": [],
   "source": [
    "import pandas as pd\n",
    "from sklearn.linear_model import LinearRegression"
   ]
  },
  {
   "cell_type": "code",
   "execution_count": 5,
   "metadata": {},
   "outputs": [
    {
     "data": {
      "text/html": [
       "<div>\n",
       "<style scoped>\n",
       "    .dataframe tbody tr th:only-of-type {\n",
       "        vertical-align: middle;\n",
       "    }\n",
       "\n",
       "    .dataframe tbody tr th {\n",
       "        vertical-align: top;\n",
       "    }\n",
       "\n",
       "    .dataframe thead th {\n",
       "        text-align: right;\n",
       "    }\n",
       "</style>\n",
       "<table border=\"1\" class=\"dataframe\">\n",
       "  <thead>\n",
       "    <tr style=\"text-align: right;\">\n",
       "      <th></th>\n",
       "      <th>beer</th>\n",
       "      <th>tpc</th>\n",
       "      <th>ma</th>\n",
       "      <th>dsa</th>\n",
       "      <th>asa</th>\n",
       "      <th>orac</th>\n",
       "      <th>rp</th>\n",
       "      <th>mca</th>\n",
       "    </tr>\n",
       "  </thead>\n",
       "  <tbody>\n",
       "    <tr>\n",
       "      <td>0</td>\n",
       "      <td>1</td>\n",
       "      <td>148.23</td>\n",
       "      <td>13.37</td>\n",
       "      <td>0.66</td>\n",
       "      <td>0.81</td>\n",
       "      <td>3.81</td>\n",
       "      <td>0.45</td>\n",
       "      <td>10.65</td>\n",
       "    </tr>\n",
       "    <tr>\n",
       "      <td>1</td>\n",
       "      <td>2</td>\n",
       "      <td>160.38</td>\n",
       "      <td>10.96</td>\n",
       "      <td>0.63</td>\n",
       "      <td>0.64</td>\n",
       "      <td>2.85</td>\n",
       "      <td>0.41</td>\n",
       "      <td>15.47</td>\n",
       "    </tr>\n",
       "    <tr>\n",
       "      <td>2</td>\n",
       "      <td>3</td>\n",
       "      <td>170.41</td>\n",
       "      <td>9.22</td>\n",
       "      <td>0.62</td>\n",
       "      <td>0.81</td>\n",
       "      <td>3.34</td>\n",
       "      <td>0.48</td>\n",
       "      <td>15.70</td>\n",
       "    </tr>\n",
       "    <tr>\n",
       "      <td>3</td>\n",
       "      <td>4</td>\n",
       "      <td>208.65</td>\n",
       "      <td>9.65</td>\n",
       "      <td>0.90</td>\n",
       "      <td>1.01</td>\n",
       "      <td>3.34</td>\n",
       "      <td>0.50</td>\n",
       "      <td>76.65</td>\n",
       "    </tr>\n",
       "    <tr>\n",
       "      <td>4</td>\n",
       "      <td>5</td>\n",
       "      <td>146.03</td>\n",
       "      <td>11.72</td>\n",
       "      <td>0.64</td>\n",
       "      <td>0.90</td>\n",
       "      <td>3.18</td>\n",
       "      <td>0.47</td>\n",
       "      <td>9.39</td>\n",
       "    </tr>\n",
       "  </tbody>\n",
       "</table>\n",
       "</div>"
      ],
      "text/plain": [
       "   beer     tpc     ma   dsa   asa  orac    rp    mca\n",
       "0     1  148.23  13.37  0.66  0.81  3.81  0.45  10.65\n",
       "1     2  160.38  10.96  0.63  0.64  2.85  0.41  15.47\n",
       "2     3  170.41   9.22  0.62  0.81  3.34  0.48  15.70\n",
       "3     4  208.65   9.65  0.90  1.01  3.34  0.50  76.65\n",
       "4     5  146.03  11.72  0.64  0.90  3.18  0.47   9.39"
      ]
     },
     "execution_count": 5,
     "metadata": {},
     "output_type": "execute_result"
    }
   ],
   "source": [
    "beer = pd.read_csv('lager_antioxidant_reg.csv')\n",
    "beer.head()"
   ]
  },
  {
   "cell_type": "code",
   "execution_count": 6,
   "metadata": {},
   "outputs": [
    {
     "data": {
      "text/html": [
       "<div>\n",
       "<style scoped>\n",
       "    .dataframe tbody tr th:only-of-type {\n",
       "        vertical-align: middle;\n",
       "    }\n",
       "\n",
       "    .dataframe tbody tr th {\n",
       "        vertical-align: top;\n",
       "    }\n",
       "\n",
       "    .dataframe thead th {\n",
       "        text-align: right;\n",
       "    }\n",
       "</style>\n",
       "<table border=\"1\" class=\"dataframe\">\n",
       "  <thead>\n",
       "    <tr style=\"text-align: right;\">\n",
       "      <th></th>\n",
       "      <th>tpc</th>\n",
       "      <th>ma</th>\n",
       "      <th>dsa</th>\n",
       "      <th>asa</th>\n",
       "      <th>orac</th>\n",
       "      <th>rp</th>\n",
       "      <th>mca</th>\n",
       "    </tr>\n",
       "  </thead>\n",
       "  <tbody>\n",
       "    <tr>\n",
       "      <td>0</td>\n",
       "      <td>148.23</td>\n",
       "      <td>13.37</td>\n",
       "      <td>0.66</td>\n",
       "      <td>0.81</td>\n",
       "      <td>3.81</td>\n",
       "      <td>0.45</td>\n",
       "      <td>10.65</td>\n",
       "    </tr>\n",
       "    <tr>\n",
       "      <td>1</td>\n",
       "      <td>160.38</td>\n",
       "      <td>10.96</td>\n",
       "      <td>0.63</td>\n",
       "      <td>0.64</td>\n",
       "      <td>2.85</td>\n",
       "      <td>0.41</td>\n",
       "      <td>15.47</td>\n",
       "    </tr>\n",
       "    <tr>\n",
       "      <td>2</td>\n",
       "      <td>170.41</td>\n",
       "      <td>9.22</td>\n",
       "      <td>0.62</td>\n",
       "      <td>0.81</td>\n",
       "      <td>3.34</td>\n",
       "      <td>0.48</td>\n",
       "      <td>15.70</td>\n",
       "    </tr>\n",
       "    <tr>\n",
       "      <td>3</td>\n",
       "      <td>208.65</td>\n",
       "      <td>9.65</td>\n",
       "      <td>0.90</td>\n",
       "      <td>1.01</td>\n",
       "      <td>3.34</td>\n",
       "      <td>0.50</td>\n",
       "      <td>76.65</td>\n",
       "    </tr>\n",
       "    <tr>\n",
       "      <td>4</td>\n",
       "      <td>146.03</td>\n",
       "      <td>11.72</td>\n",
       "      <td>0.64</td>\n",
       "      <td>0.90</td>\n",
       "      <td>3.18</td>\n",
       "      <td>0.47</td>\n",
       "      <td>9.39</td>\n",
       "    </tr>\n",
       "  </tbody>\n",
       "</table>\n",
       "</div>"
      ],
      "text/plain": [
       "      tpc     ma   dsa   asa  orac    rp    mca\n",
       "0  148.23  13.37  0.66  0.81  3.81  0.45  10.65\n",
       "1  160.38  10.96  0.63  0.64  2.85  0.41  15.47\n",
       "2  170.41   9.22  0.62  0.81  3.34  0.48  15.70\n",
       "3  208.65   9.65  0.90  1.01  3.34  0.50  76.65\n",
       "4  146.03  11.72  0.64  0.90  3.18  0.47   9.39"
      ]
     },
     "execution_count": 6,
     "metadata": {},
     "output_type": "execute_result"
    }
   ],
   "source": [
    "beer.drop(columns = 'beer', inplace = True)\n",
    "beer.head()"
   ]
  },
  {
   "cell_type": "code",
   "execution_count": 12,
   "metadata": {},
   "outputs": [],
   "source": [
    "X = beer.iloc[:, beer.columns != 'tpc']\n",
    "y = beer[['tpc']]"
   ]
  },
  {
   "cell_type": "code",
   "execution_count": 16,
   "metadata": {},
   "outputs": [
    {
     "data": {
      "text/plain": [
       "(40, 6)"
      ]
     },
     "execution_count": 16,
     "metadata": {},
     "output_type": "execute_result"
    }
   ],
   "source": [
    "X.shape"
   ]
  },
  {
   "cell_type": "code",
   "execution_count": 17,
   "metadata": {},
   "outputs": [
    {
     "data": {
      "text/plain": [
       "(40, 1)"
      ]
     },
     "execution_count": 17,
     "metadata": {},
     "output_type": "execute_result"
    }
   ],
   "source": [
    "y.shape"
   ]
  },
  {
   "cell_type": "code",
   "execution_count": 21,
   "metadata": {},
   "outputs": [
    {
     "name": "stdout",
     "output_type": "stream",
     "text": [
      "intercept = [19.04966435]\n",
      "coefficients = [[  1.28791969 125.33843146  -0.92370963  -0.93261523  76.61686364\n",
      "    0.38036155]]\n",
      "r^2 = 0.8218263273491389\n"
     ]
    }
   ],
   "source": [
    "beer_model = LinearRegression().fit(X, y)\n",
    "\n",
    "print(f'intercept = {beer_model.intercept_}')\n",
    "print(f'coefficients = {beer_model.coef_}')\n",
    "print(f'r^2 = {beer_model.score(X, y)}')"
   ]
  },
  {
   "cell_type": "code",
   "execution_count": 22,
   "metadata": {},
   "outputs": [],
   "source": [
    "from yellowbrick.regressor import ResidualsPlot"
   ]
  },
  {
   "cell_type": "code",
   "execution_count": 25,
   "metadata": {},
   "outputs": [
    {
     "data": {
      "text/plain": [
       "0.8218263273491389"
      ]
     },
     "execution_count": 25,
     "metadata": {},
     "output_type": "execute_result"
    },
    {
     "data": {
      "image/png": "[encoded data removed]",
      "text/plain": [
       "<Figure size 432x288 with 1 Axes>"
      ]
     },
     "metadata": {
      "needs_background": "light"
     },
     "output_type": "display_data"
    }
   ],
   "source": [
    "# errors have constant variance\n",
    "\n",
    "beer_resplot = ResidualsPlot(beer_model, hist = False)\n",
    "beer_resplot.fit(X, y)\n",
    "beer_resplot.score(X, y)"
   ]
  },
  {
   "cell_type": "code",
   "execution_count": 47,
   "metadata": {},
   "outputs": [
    {
     "data": {
      "image/png": "[encoded data removed]",
      "text/plain": [
       "<Figure size 432x288 with 1 Axes>"
      ]
     },
     "metadata": {
      "needs_background": "light"
     },
     "output_type": "display_data"
    }
   ],
   "source": [
    "# errors are normally distributed\n",
    "\n",
    "import statsmodels.api as sm\n",
    "%matplotlib inline\n",
    "\n",
    "predictions = beer_model.predict(X)\n",
    "residuals = y - predictions\n",
    "resplot = sm.ProbPlot(residuals).qqplot()"
   ]
  },
  {
   "cell_type": "code",
   "execution_count": null,
   "metadata": {},
   "outputs": [],
   "source": []
  }
 ],
 "metadata": {
  "kernelspec": {
   "display_name": "Python 3",
   "language": "python",
   "name": "python3"
  },
  "language_info": {
   "codemirror_mode": {
    "name": "ipython",
    "version": 3
   },
   "file_extension": ".py",
   "mimetype": "text/x-python",
   "name": "python",
   "nbconvert_exporter": "python",
   "pygments_lexer": "ipython3",
   "version": "3.7.3"
  }
 },
 "nbformat": 4,
 "nbformat_minor": 2
}
