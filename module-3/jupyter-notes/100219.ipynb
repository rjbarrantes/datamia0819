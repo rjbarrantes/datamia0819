{
 "cells": [
  {
   "cell_type": "code",
   "execution_count": 8,
   "metadata": {},
   "outputs": [],
   "source": [
    "import pandas as pd\n",
    "\n",
    "table = {'site_version': [1, 2, 1, 2], \n",
    "        'customer_group': ['millenial', 'millenial', 'genz', 'genz'], \n",
    "        'purchase': [350, 150, 400, 100], \n",
    "        'no_purchase': [550, 100, 450, 300]}\n",
    "\n",
    "data = pd.DataFrame(table)"
   ]
  },
  {
   "cell_type": "code",
   "execution_count": 12,
   "metadata": {},
   "outputs": [
    {
     "data": {
      "text/html": [
       "<div>\n",
       "<style scoped>\n",
       "    .dataframe tbody tr th:only-of-type {\n",
       "        vertical-align: middle;\n",
       "    }\n",
       "\n",
       "    .dataframe tbody tr th {\n",
       "        vertical-align: top;\n",
       "    }\n",
       "\n",
       "    .dataframe thead th {\n",
       "        text-align: right;\n",
       "    }\n",
       "</style>\n",
       "<table border=\"1\" class=\"dataframe\">\n",
       "  <thead>\n",
       "    <tr style=\"text-align: right;\">\n",
       "      <th></th>\n",
       "      <th>site_version</th>\n",
       "      <th>customer_group</th>\n",
       "      <th>purchase</th>\n",
       "      <th>no_purchase</th>\n",
       "    </tr>\n",
       "  </thead>\n",
       "  <tbody>\n",
       "    <tr>\n",
       "      <td>0</td>\n",
       "      <td>1</td>\n",
       "      <td>millenial</td>\n",
       "      <td>350</td>\n",
       "      <td>550</td>\n",
       "    </tr>\n",
       "    <tr>\n",
       "      <td>1</td>\n",
       "      <td>2</td>\n",
       "      <td>millenial</td>\n",
       "      <td>150</td>\n",
       "      <td>100</td>\n",
       "    </tr>\n",
       "    <tr>\n",
       "      <td>2</td>\n",
       "      <td>1</td>\n",
       "      <td>genz</td>\n",
       "      <td>400</td>\n",
       "      <td>450</td>\n",
       "    </tr>\n",
       "    <tr>\n",
       "      <td>3</td>\n",
       "      <td>2</td>\n",
       "      <td>genz</td>\n",
       "      <td>100</td>\n",
       "      <td>300</td>\n",
       "    </tr>\n",
       "  </tbody>\n",
       "</table>\n",
       "</div>"
      ],
      "text/plain": [
       "   site_version customer_group  purchase  no_purchase\n",
       "0             1      millenial       350          550\n",
       "1             2      millenial       150          100\n",
       "2             1           genz       400          450\n",
       "3             2           genz       100          300"
      ]
     },
     "execution_count": 12,
     "metadata": {},
     "output_type": "execute_result"
    }
   ],
   "source": [
    "data"
   ]
  },
  {
   "cell_type": "code",
   "execution_count": null,
   "metadata": {},
   "outputs": [],
   "source": [
    "# prob of customer making purchase given they are a millenial and looking at site version 1\n",
    "\n",
    "P(purchase | version1, millenial) = P(purchase ∩ version1, millenial) / P(version1, millenial)\n",
    "P(purchase | version1, millenial) ∝ P(purchase ∩ version1, millenial)\n",
    "P(purchase | version1, millenial) ∝ P(purchase) * P(version1 | purchase) * P(millenial | purchase)"
   ]
  },
  {
   "cell_type": "code",
   "execution_count": 14,
   "metadata": {},
   "outputs": [
    {
     "data": {
      "text/plain": [
       "0.4166666666666667"
      ]
     },
     "execution_count": 14,
     "metadata": {},
     "output_type": "execute_result"
    }
   ],
   "source": [
    "P_pu = data['purchase'].sum() / (data['purchase'].sum() + data['no_purchase'].sum())\n",
    "P_pu"
   ]
  },
  {
   "cell_type": "code",
   "execution_count": 15,
   "metadata": {},
   "outputs": [
    {
     "data": {
      "text/plain": [
       "0.75"
      ]
     },
     "execution_count": 15,
     "metadata": {},
     "output_type": "execute_result"
    }
   ],
   "source": [
    "P_v1Gpu = data.loc[data['site_version'] == 1, 'purchase'].sum() / data['purchase'].sum()\n",
    "P_v1Gpu"
   ]
  },
  {
   "cell_type": "code",
   "execution_count": 16,
   "metadata": {},
   "outputs": [
    {
     "data": {
      "text/plain": [
       "0.5"
      ]
     },
     "execution_count": 16,
     "metadata": {},
     "output_type": "execute_result"
    }
   ],
   "source": [
    "P_miGpu = data.loc[data['customer_group'] == 'millenial', 'purchase'].sum() / data['purchase'].sum()\n",
    "P_miGpu"
   ]
  },
  {
   "cell_type": "code",
   "execution_count": 20,
   "metadata": {},
   "outputs": [
    {
     "name": "stdout",
     "output_type": "stream",
     "text": [
      "P(purchase | version1, millenial) ∝ 0.15625.\n"
     ]
    }
   ],
   "source": [
    "PpuGv1mi = P_pu * P_v1Gpu * P_miGpu\n",
    "print(f'P(purchase | version1, millenial) ∝ {PpuGv1mi}.')"
   ]
  },
  {
   "cell_type": "code",
   "execution_count": 23,
   "metadata": {},
   "outputs": [
    {
     "name": "stdout",
     "output_type": "stream",
     "text": [
      "P(nopurchase | version1, millenial) ∝ 0.19345238095238096.\n"
     ]
    }
   ],
   "source": [
    "P_no = data['no_purchase'].sum() / (data['purchase'].sum() + data['no_purchase'].sum())\n",
    "P_v1Gno = data.loc[data['site_version'] == 1, 'no_purchase'].sum() / data['no_purchase'].sum()\n",
    "P_miGno = data.loc[data['customer_group'] == 'millenial', 'no_purchase'].sum() / data['no_purchase'].sum()\n",
    "PnoGv1mi = P_no * P_v1Gno * P_miGno\n",
    "print(f'P(nopurchase | version1, millenial) ∝ {PnoGv1mi}.')"
   ]
  },
  {
   "cell_type": "code",
   "execution_count": null,
   "metadata": {},
   "outputs": [],
   "source": []
  }
 ],
 "metadata": {
  "kernelspec": {
   "display_name": "Python 3",
   "language": "python",
   "name": "python3"
  },
  "language_info": {
   "codemirror_mode": {
    "name": "ipython",
    "version": 3
   },
   "file_extension": ".py",
   "mimetype": "text/x-python",
   "name": "python",
   "nbconvert_exporter": "python",
   "pygments_lexer": "ipython3",
   "version": "3.7.3"
  }
 },
 "nbformat": 4,
 "nbformat_minor": 2
}
