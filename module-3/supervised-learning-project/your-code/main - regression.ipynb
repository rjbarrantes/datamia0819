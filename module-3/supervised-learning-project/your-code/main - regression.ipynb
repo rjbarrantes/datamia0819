{
 "cells": [
  {
   "cell_type": "code",
   "execution_count": 1,
   "metadata": {},
   "outputs": [],
   "source": [
    "import pandas as pd\n",
    "import numpy as np\n",
    "from sklearn.model_selection import train_test_split\n",
    "from sklearn.linear_model import LinearRegression\n",
    "from sklearn.metrics import r2_score, mean_squared_error, mean_absolute_error\n",
    "from sklearn.preprocessing import RobustScaler"
   ]
  },
  {
   "cell_type": "code",
   "execution_count": 32,
   "metadata": {},
   "outputs": [],
   "source": [
    "delays = pd.read_csv('C:/Users/rbarr/Desktop/Ironhack/repos/DelayedFlights.csv')"
   ]
  },
  {
   "cell_type": "code",
   "execution_count": 46,
   "metadata": {},
   "outputs": [
    {
     "data": {
      "text/html": [
       "<div>\n",
       "<style scoped>\n",
       "    .dataframe tbody tr th:only-of-type {\n",
       "        vertical-align: middle;\n",
       "    }\n",
       "\n",
       "    .dataframe tbody tr th {\n",
       "        vertical-align: top;\n",
       "    }\n",
       "\n",
       "    .dataframe thead th {\n",
       "        text-align: right;\n",
       "    }\n",
       "</style>\n",
       "<table border=\"1\" class=\"dataframe\">\n",
       "  <thead>\n",
       "    <tr style=\"text-align: right;\">\n",
       "      <th></th>\n",
       "      <th>year</th>\n",
       "      <th>month</th>\n",
       "      <th>day</th>\n",
       "      <th>dayofweek</th>\n",
       "      <th>deptime</th>\n",
       "      <th>crsdeptime</th>\n",
       "      <th>arrtime</th>\n",
       "      <th>crsarrtime</th>\n",
       "      <th>uniquecarrier</th>\n",
       "      <th>flightnum</th>\n",
       "      <th>tailnum</th>\n",
       "      <th>actualelapsedtime</th>\n",
       "      <th>crselapsedtime</th>\n",
       "      <th>airtime</th>\n",
       "      <th>arrdelay</th>\n",
       "    </tr>\n",
       "  </thead>\n",
       "  <tbody>\n",
       "    <tr>\n",
       "      <th>0</th>\n",
       "      <td>2008</td>\n",
       "      <td>1</td>\n",
       "      <td>3</td>\n",
       "      <td>4</td>\n",
       "      <td>2003.0</td>\n",
       "      <td>1955</td>\n",
       "      <td>2211.0</td>\n",
       "      <td>2225</td>\n",
       "      <td>WN</td>\n",
       "      <td>335</td>\n",
       "      <td>N712SW</td>\n",
       "      <td>128.0</td>\n",
       "      <td>150.0</td>\n",
       "      <td>116.0</td>\n",
       "      <td>-14.0</td>\n",
       "    </tr>\n",
       "    <tr>\n",
       "      <th>1</th>\n",
       "      <td>2008</td>\n",
       "      <td>1</td>\n",
       "      <td>3</td>\n",
       "      <td>4</td>\n",
       "      <td>754.0</td>\n",
       "      <td>735</td>\n",
       "      <td>1002.0</td>\n",
       "      <td>1000</td>\n",
       "      <td>WN</td>\n",
       "      <td>3231</td>\n",
       "      <td>N772SW</td>\n",
       "      <td>128.0</td>\n",
       "      <td>145.0</td>\n",
       "      <td>113.0</td>\n",
       "      <td>2.0</td>\n",
       "    </tr>\n",
       "    <tr>\n",
       "      <th>2</th>\n",
       "      <td>2008</td>\n",
       "      <td>1</td>\n",
       "      <td>3</td>\n",
       "      <td>4</td>\n",
       "      <td>628.0</td>\n",
       "      <td>620</td>\n",
       "      <td>804.0</td>\n",
       "      <td>750</td>\n",
       "      <td>WN</td>\n",
       "      <td>448</td>\n",
       "      <td>N428WN</td>\n",
       "      <td>96.0</td>\n",
       "      <td>90.0</td>\n",
       "      <td>76.0</td>\n",
       "      <td>14.0</td>\n",
       "    </tr>\n",
       "    <tr>\n",
       "      <th>3</th>\n",
       "      <td>2008</td>\n",
       "      <td>1</td>\n",
       "      <td>3</td>\n",
       "      <td>4</td>\n",
       "      <td>1829.0</td>\n",
       "      <td>1755</td>\n",
       "      <td>1959.0</td>\n",
       "      <td>1925</td>\n",
       "      <td>WN</td>\n",
       "      <td>3920</td>\n",
       "      <td>N464WN</td>\n",
       "      <td>90.0</td>\n",
       "      <td>90.0</td>\n",
       "      <td>77.0</td>\n",
       "      <td>34.0</td>\n",
       "    </tr>\n",
       "    <tr>\n",
       "      <th>4</th>\n",
       "      <td>2008</td>\n",
       "      <td>1</td>\n",
       "      <td>3</td>\n",
       "      <td>4</td>\n",
       "      <td>1940.0</td>\n",
       "      <td>1915</td>\n",
       "      <td>2121.0</td>\n",
       "      <td>2110</td>\n",
       "      <td>WN</td>\n",
       "      <td>378</td>\n",
       "      <td>N726SW</td>\n",
       "      <td>101.0</td>\n",
       "      <td>115.0</td>\n",
       "      <td>87.0</td>\n",
       "      <td>11.0</td>\n",
       "    </tr>\n",
       "  </tbody>\n",
       "</table>\n",
       "</div>"
      ],
      "text/plain": [
       "   year  month  day  dayofweek  deptime  crsdeptime  arrtime  crsarrtime  \\\n",
       "0  2008      1    3          4   2003.0        1955   2211.0        2225   \n",
       "1  2008      1    3          4    754.0         735   1002.0        1000   \n",
       "2  2008      1    3          4    628.0         620    804.0         750   \n",
       "3  2008      1    3          4   1829.0        1755   1959.0        1925   \n",
       "4  2008      1    3          4   1940.0        1915   2121.0        2110   \n",
       "\n",
       "  uniquecarrier  flightnum tailnum  actualelapsedtime  crselapsedtime  \\\n",
       "0            WN        335  N712SW              128.0           150.0   \n",
       "1            WN       3231  N772SW              128.0           145.0   \n",
       "2            WN        448  N428WN               96.0            90.0   \n",
       "3            WN       3920  N464WN               90.0            90.0   \n",
       "4            WN        378  N726SW              101.0           115.0   \n",
       "\n",
       "   airtime  arrdelay  \n",
       "0    116.0     -14.0  \n",
       "1    113.0       2.0  \n",
       "2     76.0      14.0  \n",
       "3     77.0      34.0  \n",
       "4     87.0      11.0  "
      ]
     },
     "execution_count": 46,
     "metadata": {},
     "output_type": "execute_result"
    }
   ],
   "source": [
    "delays.iloc[:, :15].head()"
   ]
  },
  {
   "cell_type": "code",
   "execution_count": 47,
   "metadata": {},
   "outputs": [
    {
     "data": {
      "text/html": [
       "<div>\n",
       "<style scoped>\n",
       "    .dataframe tbody tr th:only-of-type {\n",
       "        vertical-align: middle;\n",
       "    }\n",
       "\n",
       "    .dataframe tbody tr th {\n",
       "        vertical-align: top;\n",
       "    }\n",
       "\n",
       "    .dataframe thead th {\n",
       "        text-align: right;\n",
       "    }\n",
       "</style>\n",
       "<table border=\"1\" class=\"dataframe\">\n",
       "  <thead>\n",
       "    <tr style=\"text-align: right;\">\n",
       "      <th></th>\n",
       "      <th>depdelay</th>\n",
       "      <th>origin</th>\n",
       "      <th>dest</th>\n",
       "      <th>distance</th>\n",
       "      <th>taxiin</th>\n",
       "      <th>taxiout</th>\n",
       "      <th>cancelled</th>\n",
       "      <th>cancellationcode</th>\n",
       "      <th>diverted</th>\n",
       "      <th>carrierdelay</th>\n",
       "      <th>weatherdelay</th>\n",
       "      <th>nasdelay</th>\n",
       "      <th>securitydelay</th>\n",
       "      <th>lateaircraftdelay</th>\n",
       "    </tr>\n",
       "  </thead>\n",
       "  <tbody>\n",
       "    <tr>\n",
       "      <th>0</th>\n",
       "      <td>8.0</td>\n",
       "      <td>IAD</td>\n",
       "      <td>TPA</td>\n",
       "      <td>810</td>\n",
       "      <td>4.0</td>\n",
       "      <td>8.0</td>\n",
       "      <td>0</td>\n",
       "      <td>N</td>\n",
       "      <td>0</td>\n",
       "      <td>NaN</td>\n",
       "      <td>NaN</td>\n",
       "      <td>NaN</td>\n",
       "      <td>NaN</td>\n",
       "      <td>NaN</td>\n",
       "    </tr>\n",
       "    <tr>\n",
       "      <th>1</th>\n",
       "      <td>19.0</td>\n",
       "      <td>IAD</td>\n",
       "      <td>TPA</td>\n",
       "      <td>810</td>\n",
       "      <td>5.0</td>\n",
       "      <td>10.0</td>\n",
       "      <td>0</td>\n",
       "      <td>N</td>\n",
       "      <td>0</td>\n",
       "      <td>NaN</td>\n",
       "      <td>NaN</td>\n",
       "      <td>NaN</td>\n",
       "      <td>NaN</td>\n",
       "      <td>NaN</td>\n",
       "    </tr>\n",
       "    <tr>\n",
       "      <th>2</th>\n",
       "      <td>8.0</td>\n",
       "      <td>IND</td>\n",
       "      <td>BWI</td>\n",
       "      <td>515</td>\n",
       "      <td>3.0</td>\n",
       "      <td>17.0</td>\n",
       "      <td>0</td>\n",
       "      <td>N</td>\n",
       "      <td>0</td>\n",
       "      <td>NaN</td>\n",
       "      <td>NaN</td>\n",
       "      <td>NaN</td>\n",
       "      <td>NaN</td>\n",
       "      <td>NaN</td>\n",
       "    </tr>\n",
       "    <tr>\n",
       "      <th>3</th>\n",
       "      <td>34.0</td>\n",
       "      <td>IND</td>\n",
       "      <td>BWI</td>\n",
       "      <td>515</td>\n",
       "      <td>3.0</td>\n",
       "      <td>10.0</td>\n",
       "      <td>0</td>\n",
       "      <td>N</td>\n",
       "      <td>0</td>\n",
       "      <td>2.0</td>\n",
       "      <td>0.0</td>\n",
       "      <td>0.0</td>\n",
       "      <td>0.0</td>\n",
       "      <td>32.0</td>\n",
       "    </tr>\n",
       "    <tr>\n",
       "      <th>4</th>\n",
       "      <td>25.0</td>\n",
       "      <td>IND</td>\n",
       "      <td>JAX</td>\n",
       "      <td>688</td>\n",
       "      <td>4.0</td>\n",
       "      <td>10.0</td>\n",
       "      <td>0</td>\n",
       "      <td>N</td>\n",
       "      <td>0</td>\n",
       "      <td>NaN</td>\n",
       "      <td>NaN</td>\n",
       "      <td>NaN</td>\n",
       "      <td>NaN</td>\n",
       "      <td>NaN</td>\n",
       "    </tr>\n",
       "  </tbody>\n",
       "</table>\n",
       "</div>"
      ],
      "text/plain": [
       "   depdelay origin dest  distance  taxiin  taxiout  cancelled  \\\n",
       "0       8.0    IAD  TPA       810     4.0      8.0          0   \n",
       "1      19.0    IAD  TPA       810     5.0     10.0          0   \n",
       "2       8.0    IND  BWI       515     3.0     17.0          0   \n",
       "3      34.0    IND  BWI       515     3.0     10.0          0   \n",
       "4      25.0    IND  JAX       688     4.0     10.0          0   \n",
       "\n",
       "  cancellationcode  diverted  carrierdelay  weatherdelay  nasdelay  \\\n",
       "0                N         0           NaN           NaN       NaN   \n",
       "1                N         0           NaN           NaN       NaN   \n",
       "2                N         0           NaN           NaN       NaN   \n",
       "3                N         0           2.0           0.0       0.0   \n",
       "4                N         0           NaN           NaN       NaN   \n",
       "\n",
       "   securitydelay  lateaircraftdelay  \n",
       "0            NaN                NaN  \n",
       "1            NaN                NaN  \n",
       "2            NaN                NaN  \n",
       "3            0.0               32.0  \n",
       "4            NaN                NaN  "
      ]
     },
     "execution_count": 47,
     "metadata": {},
     "output_type": "execute_result"
    }
   ],
   "source": [
    "delays.iloc[:, 15:].head()"
   ]
  },
  {
   "cell_type": "code",
   "execution_count": 44,
   "metadata": {},
   "outputs": [
    {
     "data": {
      "text/plain": [
       "Index(['year', 'month', 'day', 'dayofweek', 'deptime', 'crsdeptime', 'arrtime',\n",
       "       'crsarrtime', 'uniquecarrier', 'flightnum', 'tailnum',\n",
       "       'actualelapsedtime', 'crselapsedtime', 'airtime', 'arrdelay',\n",
       "       'depdelay', 'origin', 'dest', 'distance', 'taxiin', 'taxiout',\n",
       "       'cancelled', 'cancellationcode', 'diverted', 'carrierdelay',\n",
       "       'weatherdelay', 'nasdelay', 'securitydelay', 'lateaircraftdelay'],\n",
       "      dtype='object')"
      ]
     },
     "execution_count": 44,
     "metadata": {},
     "output_type": "execute_result"
    }
   ],
   "source": [
    "delays.columns"
   ]
  },
  {
   "cell_type": "code",
   "execution_count": 41,
   "metadata": {},
   "outputs": [
    {
     "data": {
      "text/plain": [
       "year                   int64\n",
       "month                  int64\n",
       "day                    int64\n",
       "dayofweek              int64\n",
       "deptime              float64\n",
       "crsdeptime             int64\n",
       "arrtime              float64\n",
       "crsarrtime             int64\n",
       "uniquecarrier         object\n",
       "flightnum              int64\n",
       "tailnum               object\n",
       "actualelapsedtime    float64\n",
       "crselapsedtime       float64\n",
       "airtime              float64\n",
       "arrdelay             float64\n",
       "depdelay             float64\n",
       "origin                object\n",
       "dest                  object\n",
       "distance               int64\n",
       "taxiin               float64\n",
       "taxiout              float64\n",
       "cancelled              int64\n",
       "cancellationcode      object\n",
       "diverted               int64\n",
       "carrierdelay         float64\n",
       "weatherdelay         float64\n",
       "nasdelay             float64\n",
       "securitydelay        float64\n",
       "lateaircraftdelay    float64\n",
       "dtype: object"
      ]
     },
     "execution_count": 41,
     "metadata": {},
     "output_type": "execute_result"
    }
   ],
   "source": [
    "# delays.drop(columns = 'Unnamed: 0', inplace = True)\n",
    "delays = delays.rename(columns = {'DayofMonth': 'Day'})\n",
    "delays.columns = delays.columns.str.lower()\n",
    "delays.dtypes"
   ]
  },
  {
   "cell_type": "code",
   "execution_count": 48,
   "metadata": {},
   "outputs": [
    {
     "data": {
      "text/plain": [
       "Timestamp('2008-01-01 00:00:00')"
      ]
     },
     "execution_count": 48,
     "metadata": {},
     "output_type": "execute_result"
    }
   ],
   "source": [
    "pd.to_datetime(delays[['year', 'month', 'day']]).min()"
   ]
  },
  {
   "cell_type": "code",
   "execution_count": 49,
   "metadata": {},
   "outputs": [
    {
     "data": {
      "text/plain": [
       "Timestamp('2008-12-31 00:00:00')"
      ]
     },
     "execution_count": 49,
     "metadata": {},
     "output_type": "execute_result"
    }
   ],
   "source": [
    "pd.to_datetime(delays[['year', 'month', 'day']]).max()"
   ]
  },
  {
   "cell_type": "code",
   "execution_count": 43,
   "metadata": {},
   "outputs": [
    {
     "data": {
      "text/plain": [
       "WN    377602\n",
       "AA    191865\n",
       "MQ    141920\n",
       "UA    141426\n",
       "OO    132433\n",
       "DL    114238\n",
       "XE    103663\n",
       "CO    100195\n",
       "US     98425\n",
       "EV     81877\n",
       "NW     79108\n",
       "FL     71284\n",
       "YV     67063\n",
       "B6     55315\n",
       "OH     52657\n",
       "9E     51885\n",
       "AS     39293\n",
       "F9     28269\n",
       "HA      7490\n",
       "AQ       750\n",
       "Name: uniquecarrier, dtype: int64"
      ]
     },
     "execution_count": 43,
     "metadata": {},
     "output_type": "execute_result"
    }
   ],
   "source": [
    "delays['uniquecarrier'].value_counts()"
   ]
  },
  {
   "cell_type": "code",
   "execution_count": null,
   "metadata": {},
   "outputs": [],
   "source": []
  }
 ],
 "metadata": {
  "kernelspec": {
   "display_name": "Python 3",
   "language": "python",
   "name": "python3"
  },
  "language_info": {
   "codemirror_mode": {
    "name": "ipython",
    "version": 3
   },
   "file_extension": ".py",
   "mimetype": "text/x-python",
   "name": "python",
   "nbconvert_exporter": "python",
   "pygments_lexer": "ipython3",
   "version": "3.7.3"
  }
 },
 "nbformat": 4,
 "nbformat_minor": 2
}
