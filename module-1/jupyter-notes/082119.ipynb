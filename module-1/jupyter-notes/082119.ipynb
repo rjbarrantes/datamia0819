{
 "cells": [
  {
   "cell_type": "code",
   "execution_count": 18,
   "metadata": {},
   "outputs": [
    {
     "name": "stdout",
     "output_type": "stream",
     "text": [
      "dark \n",
      "\n",
      "3\n",
      "['dark', 'milk', 'semi sweet']\n"
     ]
    }
   ],
   "source": [
    "chocolates = ('dark', 'milk', 'semi sweet')\n",
    "\n",
    "print(chocolates[0], '\\n')\n",
    "\n",
    "print(len(chocolates))\n",
    "\n",
    "t_to_l = [i for i in chocolates]\n",
    "print(t_to_l)"
   ]
  },
  {
   "cell_type": "code",
   "execution_count": 5,
   "metadata": {},
   "outputs": [
    {
     "ename": "TypeError",
     "evalue": "'tuple' object does not support item assignment",
     "output_type": "error",
     "traceback": [
      "\u001b[1;31m---------------------------------------------------------------------------\u001b[0m",
      "\u001b[1;31mTypeError\u001b[0m                                 Traceback (most recent call last)",
      "\u001b[1;32m<ipython-input-5-c0acacfd3255>\u001b[0m in \u001b[0;36m<module>\u001b[1;34m\u001b[0m\n\u001b[1;32m----> 1\u001b[1;33m \u001b[0mchocolates\u001b[0m\u001b[1;33m[\u001b[0m\u001b[1;36m3\u001b[0m\u001b[1;33m]\u001b[0m \u001b[1;33m=\u001b[0m \u001b[1;34m'white'\u001b[0m\u001b[1;33m\u001b[0m\u001b[1;33m\u001b[0m\u001b[0m\n\u001b[0m",
      "\u001b[1;31mTypeError\u001b[0m: 'tuple' object does not support item assignment"
     ]
    }
   ],
   "source": [
    "chocolates[3] = 'white'"
   ]
  },
  {
   "cell_type": "code",
   "execution_count": 13,
   "metadata": {},
   "outputs": [
    {
     "name": "stdout",
     "output_type": "stream",
     "text": [
      "<class 'str'>\n",
      "<class 'tuple'>\n",
      "<class 'tuple'>\n"
     ]
    }
   ],
   "source": [
    "names = ('Renzo')\n",
    "print(type(names))\n",
    "\n",
    "names = 'Renzo',\n",
    "print(type(names))\n",
    "\n",
    "names = ('Renzo',)\n",
    "print(type(names))"
   ]
  },
  {
   "cell_type": "code",
   "execution_count": 15,
   "metadata": {},
   "outputs": [
    {
     "name": "stdout",
     "output_type": "stream",
     "text": [
      "('dark', 'milk', 'semi sweet', 'Renzo')\n",
      "<class 'tuple'>\n"
     ]
    }
   ],
   "source": [
    "super_tuple = chocolates + names\n",
    "\n",
    "print(super_tuple)\n",
    "print(type(super_tuple))"
   ]
  },
  {
   "cell_type": "code",
   "execution_count": 39,
   "metadata": {},
   "outputs": [
    {
     "name": "stdout",
     "output_type": "stream",
     "text": [
      "dict_keys(['John', 'Paul', 'George', 'Ringo']) \n",
      "\n",
      "dict_values(['312-555-1234', '312-555-3123', '312-555-3333', '312-555-2222']) \n",
      "\n",
      "312-555-1234 \n",
      "\n",
      "{'John': '312-555-1234', 'Paul': '312-555-3123', 'George': '312-555-3333', 'Ringo': '312-555-2222', 'Renzo': '786-478-9144'} \n",
      "\n",
      "{'John': '312-555-1234', 'Paul': '312-555-3123', 'George': '312-555-3333', 'Ringo': '312-555-2222', 'Renzo': '3059759706'} \n",
      "\n",
      "{'John': '312-555-1234', 'Paul': '312-555-3123', 'George': '312-555-3333', 'Ringo': '312-555-2222'} \n",
      "\n",
      "John : 312-555-1234\n",
      "Paul : 312-555-3123\n",
      "George : 312-555-3333\n",
      "Ringo : 312-555-2222\n",
      "\n",
      "\n",
      "['John', 'Paul', 'George', 'Ringo'] \n",
      "\n",
      "786-478-9144\n"
     ]
    },
    {
     "ename": "KeyError",
     "evalue": "'786-478-9144'",
     "output_type": "error",
     "traceback": [
      "\u001b[1;31m---------------------------------------------------------------------------\u001b[0m",
      "\u001b[1;31mKeyError\u001b[0m                                  Traceback (most recent call last)",
      "\u001b[1;32m<ipython-input-39-583b4bde3809>\u001b[0m in \u001b[0;36m<module>\u001b[1;34m\u001b[0m\n\u001b[0;32m     33\u001b[0m \u001b[0mprint\u001b[0m\u001b[1;33m(\u001b[0m\u001b[0mcontacts\u001b[0m\u001b[1;33m[\u001b[0m\u001b[1;34m'Renzo'\u001b[0m\u001b[1;33m]\u001b[0m\u001b[1;33m[\u001b[0m\u001b[1;36m0\u001b[0m\u001b[1;33m]\u001b[0m\u001b[1;33m)\u001b[0m\u001b[1;33m\u001b[0m\u001b[1;33m\u001b[0m\u001b[0m\n\u001b[0;32m     34\u001b[0m \u001b[1;33m\u001b[0m\u001b[0m\n\u001b[1;32m---> 35\u001b[1;33m \u001b[0mprint\u001b[0m\u001b[1;33m(\u001b[0m\u001b[0mcontacts\u001b[0m\u001b[1;33m[\u001b[0m\u001b[1;34m'786-478-9144'\u001b[0m\u001b[1;33m]\u001b[0m\u001b[1;33m)\u001b[0m\u001b[1;33m\u001b[0m\u001b[1;33m\u001b[0m\u001b[0m\n\u001b[0m",
      "\u001b[1;31mKeyError\u001b[0m: '786-478-9144'"
     ]
    }
   ],
   "source": [
    "contacts = {\n",
    "    'John': '312-555-1234', \n",
    "    'Paul': '312-555-3123', \n",
    "    'George': '312-555-3333', \n",
    "    'Ringo': '312-555-2222'\n",
    "}\n",
    "\n",
    "names = contacts.keys()\n",
    "print(names, '\\n')\n",
    "\n",
    "phone_numbers = contacts.values()\n",
    "print(phone_numbers, '\\n')\n",
    "\n",
    "print(contacts['John'], '\\n')\n",
    "\n",
    "contacts['Renzo'] = '786-478-9144'\n",
    "print(contacts, '\\n')\n",
    "\n",
    "contacts['Renzo'] = '3059759706'\n",
    "print(contacts, '\\n')\n",
    "\n",
    "del contacts['Renzo']\n",
    "print(contacts, '\\n')\n",
    "\n",
    "for i, j in contacts.items():\n",
    "    print(i, \":\", j)\n",
    "print('\\n')\n",
    "\n",
    "names_ls = [i for i, j in contacts.items()]\n",
    "print(names_ls, '\\n')\n",
    "\n",
    "contacts['Renzo'] = ['786-478-9144', '305-975-9706']\n",
    "print(contacts['Renzo'][0])"
   ]
  },
  {
   "cell_type": "code",
   "execution_count": 59,
   "metadata": {},
   "outputs": [
    {
     "name": "stdout",
     "output_type": "stream",
     "text": [
      "dict_items([('Name', 'George'), ('Phone', '312-555-3333')]) \n",
      "\n",
      "{1: {'Name': 'John', 'Phone': '312-555-1234'}, 2: {'Name': 'Paul', 'Phone': '312-555-3123'}, 3: {'Name': 'George', 'Phone': '312-555-3333'}, 4: {'Name': 'Ringo', 'Phone': '312-555-2222'}, 5: {'Name': 'Renzo', 'Phone': ['786-478-9144', '305-975-9706']}} \n",
      "\n",
      "{'Name': 'Renzo', 'Phone': ['786-478-9144', '305-975-9706']} \n",
      "\n",
      "{1: {'Name': 'John', 'Phone': '312-555-1234', 'Email': '1@renzo.io'}, 2: {'Name': 'Paul', 'Phone': '312-555-3123'}, 3: {'Name': 'George', 'Phone': '312-555-3333'}, 4: {'Name': 'Ringo', 'Phone': '312-555-2222'}, 5: {'Name': 'Renzo', 'Phone': ['786-478-9144', '305-975-9706']}} \n",
      "\n",
      "{1: {'Name': 'John', 'Phone': '312-555-1234', 'Email': '1@renzo.io'}, 2: {'Name': 'Paul', 'Phone': '312-555-3123', 'Email': '2@renzo.io'}, 3: {'Name': 'George', 'Phone': '312-555-3333', 'Email': '3@renzo.io'}, 4: {'Name': 'Ringo', 'Phone': '312-555-2222', 'Email': '4@renzo.io'}, 5: {'Name': 'Renzo', 'Phone': ['786-478-9144', '305-975-9706']}}\n"
     ]
    }
   ],
   "source": [
    "contacts = {\n",
    "    1: {'Name': 'John', 'Phone': '312-555-1234'}, \n",
    "    2: {'NameError': 'Paul', 'Phone': '312-555-3123'}, \n",
    "    3: {'Name': 'George', 'Phone': '312-555-3333'}, \n",
    "    4: {'Name': 'Ringo', 'Phone': '312-555-2222'},\n",
    "}\n",
    "\n",
    "print(contacts[3].items(), '\\n')\n",
    "\n",
    "contacts[5] = {'Name': 'Renzo', 'Phone': ['786-478-9144', '305-975-9706']}\n",
    "print(contacts, '\\n')\n",
    "print(contacts[5], '\\n')\n",
    "\n",
    "contacts[1]['Email'] = '1@renzo.io'\n",
    "print(contacts, '\\n')\n",
    "\n",
    "emails = ['1@renzo.io', '2@renzo.io', '3@renzo.io', '4@renzo.io', '5@renzo.io']\n",
    "j = 0\n",
    "for i in range(1, len(contacts)):\n",
    "    contacts[i]['Email'] = emails[j]\n",
    "    j += 1\n",
    "print(contacts)"
   ]
  },
  {
   "cell_type": "code",
   "execution_count": 60,
   "metadata": {
    "scrolled": true
   },
   "outputs": [
    {
     "name": "stdout",
     "output_type": "stream",
     "text": [
      "{'Madison', 'Logan'}\n",
      "{'John', 'Joanna', 'Logan', 'Alexander', 'Madison', 'Mary'}\n",
      "{'John', 'Alexander'}\n"
     ]
    }
   ],
   "source": [
    "girl_names = set(['Mary', 'Madison', 'Logan', 'Joanna'])\n",
    "boy_names = set(['John', 'Alexander', 'Logan', 'Madison'])\n",
    "\n",
    "unisex_names = girl_names.intersection(boy_names)\n",
    "print(unisex_names)\n",
    "\n",
    "all_names = boy_names.union(girl_names)\n",
    "print(all_names)\n",
    "\n",
    "boy_only_names = boy_names - girl_names\n",
    "print(boy_only_names)"
   ]
  },
  {
   "cell_type": "code",
   "execution_count": 68,
   "metadata": {},
   "outputs": [
    {
     "name": "stdout",
     "output_type": "stream",
     "text": [
      "HelloWorld \n",
      "\n",
      "HelloHelloHelloHelloHelloHelloHelloHello \n",
      "\n",
      "Happy Puppies\n",
      "10 \n",
      "\n",
      "a\n",
      "o\n",
      "e \n",
      "\n",
      "['They', 'ate', 'the', 'mystery', 'meat.', 'It', 'tasted', 'like', 'chicken.']\n",
      "['They ate the mystery meat', ' It tasted like chicken', '']\n",
      "['They ate the ', 'ystery ', 'eat. It tasted like chicken.'] \n",
      "\n",
      "True\n",
      "True\n",
      "False \n",
      "\n",
      "True\n",
      "True\n",
      "False \n",
      "\n",
      "True\n",
      "True\n",
      "False \n",
      "\n",
      "she had a marvelous assortment of puppets.\n",
      "SHE HAD A MARVELOUS ASSORTMENT OF PUPPETS.\n",
      "She had a marvelous assortment of puppets.\n",
      "She Had A Marvelous Assortment Of Puppets. \n",
      "\n",
      "I have a tendency to leave trailing spaces.\n",
      "I have a tendency to leave trailing spaces. \n",
      " I have a tendency to leave trailing spaces. \n",
      "\n",
      "I thought the movie was horrible!\n",
      "I thought the movie was just OK! \n",
      "\n"
     ]
    }
   ],
   "source": [
    "print('Hello' + 'World \\n')\n",
    "\n",
    "print('Hello' * 8, '\\n')\n",
    "\n",
    "x = 'Happy'\n",
    "y = 'Puppies'\n",
    "z = [x,y]\n",
    "\n",
    "print(' '.join(z))\n",
    "\n",
    "word = 'automobile'\n",
    "print(len(word), '\\n')\n",
    "print(word[0])\n",
    "print(word[5])\n",
    "print(word[-1], '\\n')\n",
    "\n",
    "a = 'They ate the mystery meat. It tasted like chicken.'\n",
    "print(a.split())\n",
    "print(a.split('.'))\n",
    "print(a.split('m'), '\\n')\n",
    "\n",
    "b = 'There is no business like show business.'\n",
    "print(b.startswith('T'))\n",
    "print(b.startswith('There'))\n",
    "print(b.startswith('there'), '\\n')\n",
    "\n",
    "print(b.endswith('.'))\n",
    "print(b.endswith('business.'))\n",
    "print(b.endswith('Business.'), '\\n')\n",
    "\n",
    "print('like' in b)\n",
    "print('business' in b)\n",
    "print('Business' in b, '\\n')\n",
    "\n",
    "c = 'shE HaD a maRveLoUs aSsoRtmeNt of PUPPETS.'\n",
    "print(c.lower())\n",
    "print(c.upper())\n",
    "print(c.capitalize())\n",
    "print(c.title(), '\\n')\n",
    "\n",
    "d = ' I have a tendency to leave trailing spaces. '\n",
    "print(d.strip())\n",
    "print(d.lstrip())\n",
    "print(d.rstrip(), '\\n')\n",
    "\n",
    "e = 'I thought the movie was wonderful!'\n",
    "print(e.replace('wonderful', 'horrible'))\n",
    "print(e.replace('wonderful', 'just OK'), '\\n')"
   ]
  },
  {
   "cell_type": "code",
   "execution_count": 79,
   "metadata": {},
   "outputs": [
    {
     "name": "stdout",
     "output_type": "stream",
     "text": [
      "['neigh'] \n",
      "\n",
      "['n', 'g', 'b', 'o', 'r', 'r', 'o', 'g', 'r', 's', 's', 'o', 'g', 's'] \n",
      "\n",
      "['y', 'n', 'e', 'i', 'g', 'h', 'b', 'o', 'r', 'r', 'o', 'g', 'e', 'r', 's', 'h', 'a', 's', 'd', 'o', 'g', 's']\n",
      "['M', 'M', 'R']\n",
      "['M', 'y', 'n', 'e', 'i', 'g', 'h', 'b', 'o', 'r', 'M', 'r', 'R', 'o', 'g', 'e', 'r', 's', 'h', 'a', 's', 'd', 'o', 'g', 's']\n",
      "['5']\n",
      "['M', 'y', ' ', 'n', 'e', 'i', 'g', 'h', 'b', 'o', 'r', ' ', 'M', 'r', ' ', 'R', 'o', 'g', 'e', 'r', 's', ' ', 'h', 'a', 's', ' ', '5', ' ', 'd', 'o', 'g', 's'] \n",
      "\n",
      "['5']\n",
      "['M', 'y', 'n', 'e', 'i', 'g', 'h', 'b', 'o', 'r', 'M', 'r', 'R', 'o', 'g', 'e', 'r', 's', 'h', 'a', 's', '5', 'd', 'o', 'g', 's']\n",
      "['M', 'y', 'n', 'e', 'i', 'g', 'h', 'b', 'o', 'r', ',', 'M', 'r', '.', 'R', 'o', 'g', 'e', 'r', 's', ',', 'h', 'a', 's', '5', 'd', 'o', 'g', 's', '.']\n",
      "['M', 'y', ' ', 'n', 'e', 'i', 'g', 'h', 'b', 'o', 'r', ',', ' ', 'M', 'r', '.', ' ', 'R', 'o', 'g', 'e', 'r', 's', ',', ' ', 'h', 'a', 's', ' ', '5', ' ', 'd', 'o', 'g', 's', '.'] \n",
      "\n",
      "['My neighbor', 'Mr. Rogers', 'has 5 dogs.']\n",
      "['My neighbor, Mr. Rogers, has ', ' dogs.']\n",
      "My neighbor, Mr. Rogers, has 100 dogs.\n"
     ]
    }
   ],
   "source": [
    "import re\n",
    "\n",
    "text = 'My neighbor, Mr. Rogers, has 5 dogs.'\n",
    "print(re.findall('neigh', text), '\\n')\n",
    "\n",
    "print(re.findall('[mngbors]', text), '\\n')\n",
    "\n",
    "print(re.findall('[a-z]', text))\n",
    "print(re.findall('[A-Z]', text))\n",
    "print(re.findall('[a-zA-Z]', text))\n",
    "print(re.findall('[0-9]', text))\n",
    "print(re.findall('[a-zA-Z0-9 ]', text), '\\n')\n",
    "\n",
    "print(re.findall('[\\d]', text))\n",
    "print(re.findall('[\\w]', text))\n",
    "print(re.findall('[\\S]', text))\n",
    "print(re.findall('.', text), '\\n')\n",
    "\n",
    "print(re.split(', ', text))\n",
    "print(re.split('[0-9]', text))\n",
    "print(re.sub('[0-9]', '100', text))"
   ]
  },
  {
   "cell_type": "code",
   "execution_count": null,
   "metadata": {},
   "outputs": [],
   "source": []
  },
  {
   "cell_type": "code",
   "execution_count": null,
   "metadata": {},
   "outputs": [],
   "source": []
  }
 ],
 "metadata": {
  "kernelspec": {
   "display_name": "Python 3",
   "language": "python",
   "name": "python3"
  },
  "language_info": {
   "codemirror_mode": {
    "name": "ipython",
    "version": 3
   },
   "file_extension": ".py",
   "mimetype": "text/x-python",
   "name": "python",
   "nbconvert_exporter": "python",
   "pygments_lexer": "ipython3",
   "version": "3.6.8"
  }
 },
 "nbformat": 4,
 "nbformat_minor": 2
}
