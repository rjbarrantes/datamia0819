{
 "cells": [
  {
   "cell_type": "code",
   "execution_count": 11,
   "metadata": {},
   "outputs": [
    {
     "name": "stdout",
     "output_type": "stream",
     "text": [
      "4\n",
      "4\n",
      "[0, 1, 4, 9, 16, 25, 36, 49, 64, 81]\n"
     ]
    }
   ],
   "source": [
    "def square_1(x):\n",
    "    return(x**2)\n",
    "\n",
    "square_2 = lambda x: x**2\n",
    "\n",
    "print(square_1(2))\n",
    "print(square_2(2))\n",
    "\n",
    "squared = [square(x) for x in range(10)]\n",
    "print(squared)"
   ]
  },
  {
   "cell_type": "code",
   "execution_count": 5,
   "metadata": {},
   "outputs": [
    {
     "name": "stdout",
     "output_type": "stream",
     "text": [
      "10\n"
     ]
    }
   ],
   "source": [
    "multiply = lambda x, y: x * y\n",
    "print(multiply(5, 2))"
   ]
  },
  {
   "cell_type": "code",
   "execution_count": 12,
   "metadata": {},
   "outputs": [
    {
     "name": "stdout",
     "output_type": "stream",
     "text": [
      "0\n",
      "1\n",
      "2\n",
      "3\n",
      "4\n",
      "5\n",
      "6\n",
      "7\n",
      "8\n",
      "9\n"
     ]
    }
   ],
   "source": [
    "def generate_range():\n",
    "    return lambda upper: range(upper)\n",
    "custom_range = generate_range()\n",
    "\n",
    "for i in custom_range(10):\n",
    "    print(i)"
   ]
  },
  {
   "cell_type": "code",
   "execution_count": 23,
   "metadata": {},
   "outputs": [
    {
     "name": "stdout",
     "output_type": "stream",
     "text": [
      "['Calculus', 'Philosophy', 'Art History', 'Computer Science']\n",
      "['Calculus', 'Philosophy', 'Art History', 'Computer Science']\n",
      "['Computer Science', 'Calculus', 'Philosophy', 'Art History']\n"
     ]
    }
   ],
   "source": [
    "import re\n",
    "\n",
    "school_dash = ['Calculus', 'Philosophy', 'Art-History', 'Computer-Science']\n",
    "\n",
    "school_space = [(lambda x: x.replace('-', ' '))(x) for x in school_dash]\n",
    "print(school_space)\n",
    "\n",
    "school_space = [(lambda y: re.sub('-', ' ', y))(y) for y in school_dash]\n",
    "print(school_space)\n",
    "\n",
    "school_sort = sorted(school_space, key = lambda x: x[-1])\n",
    "print(school_sort)"
   ]
  },
  {
   "cell_type": "code",
   "execution_count": 25,
   "metadata": {},
   "outputs": [
    {
     "name": "stdout",
     "output_type": "stream",
     "text": [
      "0.5\n",
      "0\n"
     ]
    }
   ],
   "source": [
    "div = lambda num, denom: num / denom if denom != 0 else 0\n",
    "\n",
    "print(div(5, 10))\n",
    "print(div(5, 0))"
   ]
  },
  {
   "cell_type": "code",
   "execution_count": 29,
   "metadata": {},
   "outputs": [
    {
     "name": "stdout",
     "output_type": "stream",
     "text": [
      "himanshu\n",
      "aggarwal\n",
      "himanshu.aggarwal@ironhack.com\n",
      "27\n",
      "<__main__.Person object at 0x0000023737391898>\n"
     ]
    }
   ],
   "source": [
    "import datetime\n",
    "class Person:\n",
    "   def __init__(self, first_name, last_name, dob, address, telephone, email):\n",
    "       self.first_name = first_name\n",
    "       self.last_name = last_name\n",
    "       self.dob = dob\n",
    "       self.address = address\n",
    "       self.telephone = telephone\n",
    "       self.email = email\n",
    "   def age(self):\n",
    "       today = datetime.date.today()\n",
    "       age = today.year - self.dob.year\n",
    "       if today < datetime.date(today.year, self.dob.month, self.dob.day):\n",
    "           age -= 1\n",
    "       return age\n",
    "\n",
    "person = Person(\n",
    "   \"himanshu\",\n",
    "   \"aggarwal\",\n",
    "   datetime.date(1992, 3, 26),\n",
    "   \"ABC, MIAMI\",\n",
    "   \"480 395 8900\",\n",
    "   \"himanshu.aggarwal@ironhack.com\"\n",
    ")\n",
    "\n",
    "print(person.first_name)\n",
    "print(person.last_name)\n",
    "print(person.email)\n",
    "print(person.age())\n",
    "print(person)"
   ]
  },
  {
   "cell_type": "code",
   "execution_count": 43,
   "metadata": {},
   "outputs": [
    {
     "name": "stdout",
     "output_type": "stream",
     "text": [
      "[16.0, 16.0, -8.0]\n",
      "[40.0, -8.0]\n"
     ]
    }
   ],
   "source": [
    "import numpy as np\n",
    "\n",
    "def ordinary_least_squares(X, y):\n",
    "    # This function returns the regression coefficients of a linear model\n",
    "    # input: X - predictor variables and y - response variables\n",
    "    # output: regression coefficients\n",
    "    \n",
    "    xtx = np.dot(X.T, X) ## x-transpose times x\n",
    "    xtx_inv = np.linalg.inv(xtx) ## inverse of x-transpose times x\n",
    "    xty = np.dot(X.T, y) ## x-transpose times y\n",
    "    return np.dot(xtx_inv, xty)\n",
    "\n",
    "X = np.array([[1, 4, 5], [2, -1, 3], [1, 4, 5], [2, -1, 3], [1, 4, 5], [2, -1, 3]])\n",
    "y = np.array([5, 3])\n",
    "\n",
    "\n",
    "coefficients = ordinary_least_squares(X, y)\n",
    "predicted = np.dot(X, coefficients)\n",
    "\n",
    "print(list(coefficients))\n",
    "print(list(predicted))\n",
    "\n",
    "class LinearReg:\n",
    "    def __init__(self, fit_intercept=True):\n",
    "        self.fit_intercept = fit_intercept\n",
    "        self.coefficients = None\n",
    "        self.intercept = None\n",
    "        \n",
    "    def fit(self, X, y):\n",
    "        # This function returns the fitted linear model \n",
    "        # input: X - predictor variables and y - response variables\n",
    "        # output: regression coefficients\n",
    "        \n",
    "        xtx = np.dot(X.T, X) ## x-transpose times x\n",
    "        xtx_inv = np.linalg.inv(xtx) ## inverse of x-transpose times x\n",
    "        xty = np.dot(X.T, y) ## x-transpose times y\n",
    "        coefficients = np.dot(xtx_inv, xty)\n",
    "        \n",
    "        if self.fit_intercept:\n",
    "            self.intercept = coefficients[0]\n",
    "            self.coefficients = coefficients[1:]\n",
    "        else:\n",
    "            self.intercept = 0\n",
    "            self.coefficients = coefficients\n",
    "            \n",
    "            \n",
    "    def predict(self, X):\n",
    "        # This function returns the predicted values\n",
    "        # input: array of dependent variables\n",
    "        # output: predicted values\n",
    "        if len(X.shape) == 1:\n",
    "            X = X.reshape(-1,1) \n",
    "            return self.intercept_ + np.dot(X, self.coef_) \n",
    "\n",
    "linreg = LinearReg()\n",
    "linreg.fit(X, y)"
   ]
  },
  {
   "cell_type": "code",
   "execution_count": 68,
   "metadata": {},
   "outputs": [
    {
     "name": "stdout",
     "output_type": "stream",
     "text": [
      "There are 8 observations and 6 predictors in this data set.\n",
      "\n",
      "[[  7   4   2   8  -8   3]\n",
      " [  8   5   1   5   0   4]\n",
      " [ 10  -6  -9  -7   3  -1]\n",
      " [-10  -9  -2  -6  10   9]\n",
      " [  3   6   4  -9  -7   6]\n",
      " [  8  -7   6  -4  -8  -5]\n",
      " [ -5  -7   4  -2   6   1]\n",
      " [ -6  -1   1  -5   7   2]] is the predictor matrix.\n",
      "\n",
      "[-10   8  -5   6  -9   2   9  -4] is the outcome vector.\n",
      "\n",
      "[0.3734097704982147, -0.30773707598818173, 0.9860681680566409, 0.43285686654883154, 1.1168578061304713, -0.19815791501219732] \n",
      "\n",
      "[-2.711424836041653, 3.8063136247968186, -2.7753600840367394, 3.851415269700154, -9.68458440413385, 1.382346364064725, 9.868658540325729, 4.310751101200281]\n"
     ]
    }
   ],
   "source": [
    "import random\n",
    "import numpy as np\n",
    "\n",
    "X = []\n",
    "x = []\n",
    "y = []\n",
    "\n",
    "x_size = random.randint(2, 10)\n",
    "y_size = n_size\n",
    "n_size = random.randint(5, 10)\n",
    "\n",
    "print(f'There are {n_size} observations and {x_size} predictors in this data set.\\n')\n",
    "\n",
    "for i in range(n_size):\n",
    "    for j in range(x_size):\n",
    "        x.append(random.randint(-10, 10))\n",
    "    X.append(x)\n",
    "    y.append(random.randint(-10, 10))\n",
    "    x = []\n",
    "\n",
    "X = np.array(X)\n",
    "y = np.array(y)\n",
    "print(f'{X} is the predictor matrix.\\n')\n",
    "print(f'{y} is the outcome vector.\\n')\n",
    "\n",
    "def ordinary_least_squares(X, y):\n",
    "    xtx = np.dot(X.T, X) ## x-transpose times x\n",
    "    xtx_inv = np.linalg.inv(xtx) ## inverse of x-transpose times x\n",
    "    xty = np.dot(X.T, y) ## x-transpose times y\n",
    "    return np.dot(xtx_inv, xty)\n",
    "\n",
    "coefficients = ordinary_least_squares(X, y)\n",
    "predicted = np.dot(X, coefficients)\n",
    "\n",
    "\n",
    "print(list(coefficients), '\\n')\n",
    "print(list(predicted))"
   ]
  },
  {
   "cell_type": "code",
   "execution_count": null,
   "metadata": {},
   "outputs": [],
   "source": [
    "X = np.array([[4, 4, 5], [2, -1, 3], [8, 6, 5], [2, -1, 3], [1, 4, 5], [2, -1, 3]])\n",
    "y = np.array([5, 3])"
   ]
  }
 ],
 "metadata": {
  "kernelspec": {
   "display_name": "Python 3",
   "language": "python",
   "name": "python3"
  },
  "language_info": {
   "codemirror_mode": {
    "name": "ipython",
    "version": 3
   },
   "file_extension": ".py",
   "mimetype": "text/x-python",
   "name": "python",
   "nbconvert_exporter": "python",
   "pygments_lexer": "ipython3",
   "version": "3.6.8"
  }
 },
 "nbformat": 4,
 "nbformat_minor": 2
}
