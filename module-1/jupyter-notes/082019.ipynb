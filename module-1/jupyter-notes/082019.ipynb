{
 "cells": [
  {
   "cell_type": "code",
   "execution_count": null,
   "metadata": {},
   "outputs": [],
   "source": [
    "x = int(input(\"Press 1 to convert from Fahrenheit to Celsius or Press 2 to convert from Celsius to Fahrenheit. \"))\n",
    "y = input(\"What is the number you want to convert? \")\n",
    "\n",
    "if x == 1:\n",
    "    y=(float(y)-32)*5/9\n",
    "    print(y)\n",
    "elif x == 2:\n",
    "    y=float(y)*9/5+32\n",
    "    print(y)\n",
    "else:\n",
    "    print(\"Please enter either 1 or 2\")"
   ]
  },
  {
   "cell_type": "code",
   "execution_count": null,
   "metadata": {},
   "outputs": [],
   "source": [
    "flag1 = False\n",
    "while flag1 == False:\n",
    "    user_choice = input(\"Press 1 to convert from Fahrenheit to Celsius or Press 2 to convert from Celsius to Fahrenheit. \")\n",
    "    if user_choice not in ['1','2']:\n",
    "        print('ERROR: Please enter either 1 or 2')\n",
    "    else:\n",
    "        flag1 = True\n",
    "\n",
    "flag2 = False\n",
    "while flag2 == False:\n",
    "    temperature = input(\"What is the number you want to convert? \")\n",
    "    if temperature.replace(\".\", \"\", 1).lstrip('+-').isdigit() == False:\n",
    "        print('ERROR: Please enter a number')\n",
    "    else:\n",
    "        temperature = float(temperature)\n",
    "        flag2 = True\n",
    "\n",
    "if user_choice == 1:\n",
    "    temperature = (temperature - 32) * 5/9\n",
    "    print(temperature)\n",
    "else:\n",
    "    temperature = temperature * 9/5 +32\n",
    "    print(temperature)"
   ]
  },
  {
   "cell_type": "code",
   "execution_count": null,
   "metadata": {},
   "outputs": [],
   "source": [
    "x = '112.23'\n",
    "print(x.replace(\".\", \"\", 1).lstrip('+-'))"
   ]
  },
  {
   "cell_type": "code",
   "execution_count": 8,
   "metadata": {},
   "outputs": [
    {
     "name": "stdout",
     "output_type": "stream",
     "text": [
      "[0, 1, 2, 3, 4, 5, 6, 7, 8, 9]\n",
      "[0, 1, 2, 3, 4, 5, 6, 7, 8, 9]\n"
     ]
    }
   ],
   "source": [
    "lst = []\n",
    "\n",
    "for i in range(10):\n",
    "    lst.append(i)\n",
    "\n",
    "print(lst)\n",
    "\n",
    "lst_2 = list(range(10))\n",
    "\n",
    "print(lst_2)"
   ]
  },
  {
   "cell_type": "code",
   "execution_count": 14,
   "metadata": {},
   "outputs": [
    {
     "name": "stdout",
     "output_type": "stream",
     "text": [
      "[5, 30, 21, 54, 10, 56, 8, 24, 82, 12]\n",
      "[42, 5, 30, 21, 54, 10, 56, 8, 24, 82, 12]\n",
      "[42, 5, 30, 21, 54, 56, 8, 24, 82, 12]\n",
      "[5, 30, 21, 54, 56, 8, 24, 82, 12]\n",
      "0\n"
     ]
    }
   ],
   "source": [
    "lst_3 = [5, 30, 21, 54, 10, 56, 8, 24, 82]\n",
    "\n",
    "lst_3.append(12)\n",
    "\n",
    "print(lst_3)\n",
    "\n",
    "lst_3.insert(0, 42)\n",
    "\n",
    "print(lst_3)\n",
    "\n",
    "lst_3.remove(10)\n",
    "\n",
    "print(lst_3)\n",
    "\n",
    "lst_3.pop(0)\n",
    "\n",
    "print(lst_3)\n",
    "\n",
    "print(lst_3.index(5))"
   ]
  },
  {
   "cell_type": "code",
   "execution_count": 17,
   "metadata": {},
   "outputs": [
    {
     "name": "stdout",
     "output_type": "stream",
     "text": [
      "[0, 1, 2, 3, 4, 5, 6, 7, 8, 9, 10]\n",
      "[2, 3, 4, 5, 6, 7, 8, 9, 10]\n"
     ]
    }
   ],
   "source": [
    "lst_4 = [i for i in range(11)]\n",
    "\n",
    "print(lst_4)\n",
    "\n",
    "lst_4 = [i for i in range(11) if i >= 2]\n",
    "\n",
    "print(lst_4)"
   ]
  },
  {
   "cell_type": "code",
   "execution_count": 18,
   "metadata": {},
   "outputs": [
    {
     "name": "stdout",
     "output_type": "stream",
     "text": [
      "[1, 2, 3, 4, 5, 6, 7, 8, 9]\n"
     ]
    }
   ],
   "source": [
    "lst_lst = [[1, 2, 3], [4, 5, 6], [7, 8, 9]]\n",
    "\n",
    "lst_5 = []\n",
    "\n",
    "for x in lst_lst:\n",
    "    for y in x:\n",
    "        lst_5.append(y)\n",
    "\n",
    "print(lst_5)"
   ]
  },
  {
   "cell_type": "code",
   "execution_count": 26,
   "metadata": {},
   "outputs": [
    {
     "name": "stdout",
     "output_type": "stream",
     "text": [
      "[6, 8, 10]\n",
      "[1, 3, 5]\n"
     ]
    }
   ],
   "source": [
    "lst_lst_2 = [[1, 2, 3, 4, 5], [6, 7, 8], [9, 10]]\n",
    "\n",
    "lst_6 = [y for x in lst_lst_2 if len(x) < 4 for y in x if y % 2 == 0]\n",
    "\n",
    "print(lst_6)\n",
    "\n",
    "lst_7 = [y for x in lst_lst_2 if len(x) > 3 for y in x if y % 2 != 0]\n",
    "\n",
    "print(lst_7)"
   ]
  },
  {
   "cell_type": "code",
   "execution_count": 40,
   "metadata": {},
   "outputs": [
    {
     "name": "stdout",
     "output_type": "stream",
     "text": [
      ".ipynb_checkpoints\n",
      ".ipython\n",
      ".jupyter\n",
      "Untitled.ipynb\n",
      "\n",
      "\n",
      "['Untitled.ipynb']\n",
      "C:\\Users\\rbarr\n"
     ]
    }
   ],
   "source": [
    "import os\n",
    "\n",
    "path = os.getcwd()\n",
    "\n",
    "path_files = os.listdir()\n",
    "\n",
    "for f in path_files:\n",
    "    if 'py' in f:\n",
    "        print(f)\n",
    "print(\"\\n\")\n",
    "\n",
    "x = [f for f in path_files if f.endswith('.ipynb')]\n",
    "print(x)\n",
    "\n",
    "print(path)"
   ]
  },
  {
   "cell_type": "code",
   "execution_count": 49,
   "metadata": {},
   "outputs": [
    {
     "name": "stdout",
     "output_type": "stream",
     "text": [
      "['Year', 'Fuel Barrels/Year', 'City MPG', 'Highway MPG', 'Combined MPG', 'CO2 Emission Grams/Mile', 'Fuel Cost/Year']\n",
      "\n",
      "\n",
      "   Year  Engine Displacement  Cylinders  Fuel Barrels/Year  City MPG  \\\n",
      "0  1984                  2.5        4.0          19.388824        18   \n",
      "1  1984                  4.2        6.0          25.354615        13   \n",
      "2  1985                  2.5        4.0          20.600625        16   \n",
      "3  1985                  4.2        6.0          25.354615        13   \n",
      "4  1987                  3.8        6.0          20.600625        14   \n",
      "\n",
      "   Highway MPG  Combined MPG  CO2 Emission Grams/Mile  Fuel Cost/Year  \n",
      "0           17            17               522.764706            1950  \n",
      "1           13            13               683.615385            2550  \n",
      "2           17            16               555.437500            2100  \n",
      "3           13            13               683.615385            2550  \n",
      "4           21            16               555.437500            2550  \n",
      "               Make                Model  Year  Engine Displacement  \\\n",
      "0        AM General    DJ Po Vehicle 2WD  1984                  2.5   \n",
      "1        AM General     FJ8c Post Office  1984                  4.2   \n",
      "2        AM General  Post Office DJ5 2WD  1985                  2.5   \n",
      "3        AM General  Post Office DJ8 2WD  1985                  4.2   \n",
      "4  ASC Incorporated                  GNX  1987                  3.8   \n",
      "\n",
      "   Cylinders     Transmission        Drivetrain                Vehicle Class  \\\n",
      "0        4.0  Automatic 3-spd     2-Wheel Drive  Special Purpose Vehicle 2WD   \n",
      "1        6.0  Automatic 3-spd     2-Wheel Drive  Special Purpose Vehicle 2WD   \n",
      "2        4.0  Automatic 3-spd  Rear-Wheel Drive  Special Purpose Vehicle 2WD   \n",
      "3        6.0  Automatic 3-spd  Rear-Wheel Drive  Special Purpose Vehicle 2WD   \n",
      "4        6.0  Automatic 4-spd  Rear-Wheel Drive                 Midsize Cars   \n",
      "\n",
      "  Fuel Type  Fuel Barrels/Year  City MPG  Highway MPG  Combined MPG  \\\n",
      "0   Regular          19.388824        18           17            17   \n",
      "1   Regular          25.354615        13           13            13   \n",
      "2   Regular          20.600625        16           17            16   \n",
      "3   Regular          25.354615        13           13            13   \n",
      "4   Premium          20.600625        14           21            16   \n",
      "\n",
      "   CO2 Emission Grams/Mile  Fuel Cost/Year  \n",
      "0               522.764706            1950  \n",
      "1               683.615385            2550  \n",
      "2               555.437500            2100  \n",
      "3               683.615385            2550  \n",
      "4               555.437500            2550  \n"
     ]
    }
   ],
   "source": [
    "import pandas as pd\n",
    "\n",
    "data = pd.read_csv('vehicles.csv')\n",
    "\n",
    "selected_columns = [col for col in data._get_numeric_data() if data[col].mean() > 15]\n",
    "print(selected_columns)\n",
    "\n",
    "print(\"\\n\")\n",
    "\n",
    "print(data._get_numeric_data().head())\n",
    "print(data.head())"
   ]
  }
 ],
 "metadata": {
  "kernelspec": {
   "display_name": "Python 3",
   "language": "python",
   "name": "python3"
  },
  "language_info": {
   "codemirror_mode": {
    "name": "ipython",
    "version": 3
   },
   "file_extension": ".py",
   "mimetype": "text/x-python",
   "name": "python",
   "nbconvert_exporter": "python",
   "pygments_lexer": "ipython3",
   "version": "3.6.8"
  }
 },
 "nbformat": 4,
 "nbformat_minor": 2
}
