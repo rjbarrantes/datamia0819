{
 "cells": [
  {
   "cell_type": "markdown",
   "metadata": {},
   "source": [
    "# Before your start:\n",
    "- Read the README.md file\n",
    "- Comment as much as you can and use the resources in the README.md file\n",
    "- Happy learning!"
   ]
  },
  {
   "cell_type": "markdown",
   "metadata": {},
   "source": [
    "# Challenge 1 - Matrix Functions\n",
    "\n",
    "#### We would like to create our own matrix. To make life simple for us, we can represent matrices as a list of lists. For the sake of simplicity, we will assume that the maximum number of dimensions a matrix will have is 2.\n",
    "\n",
    "The most basic thing we would like to do with two matrices is to add them together. To add two matrices, we must perform a number of checks. The first check we would like to perform is whether the matrix is two dimesional. This is because we want to limit ourselves to two dimensional matrices to simplify our problem. In the cell below write a function that checks is a matrix is two dimesional. "
   ]
  },
  {
   "cell_type": "code",
   "execution_count": 1,
   "metadata": {},
   "outputs": [],
   "source": [
    "def twodim(mat):\n",
    "    if type(mat) == list:\n",
    "        inner_lists = 0\n",
    "        for i in mat:\n",
    "            if type(i) == list:\n",
    "                inner_lists += 1\n",
    "        if inner_lists == len(mat):\n",
    "            three = 0\n",
    "            for j in i:\n",
    "                if type(j) == list:\n",
    "                    three += 1\n",
    "            if three > 0:\n",
    "                return False\n",
    "            else:\n",
    "                return True\n",
    "        else:\n",
    "            return False\n",
    "    else:\n",
    "        return False"
   ]
  },
  {
   "cell_type": "code",
   "execution_count": 2,
   "metadata": {},
   "outputs": [
    {
     "data": {
      "text/plain": [
       "True"
      ]
     },
     "execution_count": 2,
     "metadata": {},
     "output_type": "execute_result"
    }
   ],
   "source": [
    "twodim([[1,2,3], \n",
    "       [1,2,3], \n",
    "       [1,2]])"
   ]
  },
  {
   "cell_type": "markdown",
   "metadata": {},
   "source": [
    "# Bonus Challenge 1 - Write the function recursively\n",
    "\n",
    "Rewrite the `twodim` function using recursion. \n",
    "Read more about recursion [here](https://www.cs.utah.edu/~germain/PPS/Topics/recursion.html)\n",
    "\n",
    "Hint: stop your recursion when there are no more lists, this wil be the depth of your matrix. Check that this depth is equal to 2.\n",
    "Second Hint: At every level of the recursion, use the filter function to keep only the members of the list that are lists."
   ]
  },
  {
   "cell_type": "code",
   "execution_count": null,
   "metadata": {},
   "outputs": [],
   "source": [
    "def twodimrecursive(mat):\n",
    "    # Your code here:\n",
    "    "
   ]
  },
  {
   "cell_type": "code",
   "execution_count": null,
   "metadata": {},
   "outputs": [],
   "source": [
    "twodimrecursive([[1,2,3], \n",
    "                 [1,2]])"
   ]
  },
  {
   "cell_type": "markdown",
   "metadata": {},
   "source": [
    "#### Next, we will write a function that checks for the number of rows and columns of a matrix. \n",
    "\n",
    "Recall that the outer list will tell us the number of rows and the inner lists will tell us the number of columns. Make sure that all inner lists are of the same length."
   ]
  },
  {
   "cell_type": "code",
   "execution_count": 3,
   "metadata": {},
   "outputs": [],
   "source": [
    "def rowcolumn(mat):\n",
    "    col_mismatch = 0\n",
    "    for i in range(len(mat)-1):\n",
    "        if len(mat[i]) != len(mat[i + 1]):\n",
    "            col_mismatch += 1\n",
    "    if col_mismatch > 0:\n",
    "        return False\n",
    "    else:\n",
    "        rows = len(mat)\n",
    "        columns = len(mat[0])\n",
    "        return (rows,columns)"
   ]
  },
  {
   "cell_type": "code",
   "execution_count": 4,
   "metadata": {},
   "outputs": [
    {
     "data": {
      "text/plain": [
       "(3, 4)"
      ]
     },
     "execution_count": 4,
     "metadata": {},
     "output_type": "execute_result"
    }
   ],
   "source": [
    "rowcolumn([[1,2,3,4], \n",
    "           [1,2,3,4], \n",
    "           [1,2,3,4]])"
   ]
  },
  {
   "cell_type": "markdown",
   "metadata": {},
   "source": [
    "#### Our next step is to write a function that compares two matrices and tells us whether they are of equal size.\n",
    "\n",
    "In this function we will check whether the number of rows and number of columns is the same."
   ]
  },
  {
   "cell_type": "code",
   "execution_count": 15,
   "metadata": {},
   "outputs": [],
   "source": [
    "def compare(mat1, mat2):\n",
    "    if len(mat1) == len(mat2):\n",
    "        inner_mismatch = 0\n",
    "        for i in range(len(mat1)):\n",
    "            if len(mat1[i]) != len(mat2[i]):\n",
    "                inner_mismatch += 1\n",
    "        if inner_mismatch > 0:\n",
    "            return False\n",
    "        else:\n",
    "            return True\n",
    "    else:\n",
    "        return False"
   ]
  },
  {
   "cell_type": "code",
   "execution_count": 17,
   "metadata": {},
   "outputs": [
    {
     "data": {
      "text/plain": [
       "True"
      ]
     },
     "execution_count": 17,
     "metadata": {},
     "output_type": "execute_result"
    }
   ],
   "source": [
    "compare([[1,2,3],[4,5,6]], \n",
    "        [[7,8,9],[10,11,12]])"
   ]
  },
  {
   "cell_type": "markdown",
   "metadata": {},
   "source": [
    "#### Now that we have all the tools we need, write a function that adds two matrices together. \n",
    "\n",
    "Remember that a matrix is represented as a list of lists. Therefore, we must add each element in the list. The plus symbol is used for concatenating two lists and not for adding every element in two lists."
   ]
  },
  {
   "cell_type": "code",
   "execution_count": 18,
   "metadata": {},
   "outputs": [],
   "source": [
    "def addition(mat1, mat2):\n",
    "    mat3 = []\n",
    "    mat_sum = []\n",
    "    for i in range(len(mat1)):\n",
    "        for j in range(len(mat1[0])):\n",
    "            mat3.append(mat1[i][j] + mat2[i][j])\n",
    "        mat_sum.append(mat3)\n",
    "        mat3 = []\n",
    "    print(mat_sum)     "
   ]
  },
  {
   "cell_type": "code",
   "execution_count": 8,
   "metadata": {},
   "outputs": [
    {
     "name": "stdout",
     "output_type": "stream",
     "text": [
      "[[8, 10, 12], [14, 16, 18]]\n"
     ]
    }
   ],
   "source": [
    "addition([[1,2,3],[4,5,6]], \n",
    "         [[7,8,9],[10,11,12]])"
   ]
  },
  {
   "cell_type": "markdown",
   "metadata": {},
   "source": [
    "# Challenge 2 - Creating the Class\n",
    "\n",
    "In the cell below, you will be creating the class Matrix2D. Use the functions you have written above and tweak them according to the instructions in the comments. You got this!"
   ]
  },
  {
   "cell_type": "code",
   "execution_count": 38,
   "metadata": {},
   "outputs": [],
   "source": [
    "class Matrix2D:\n",
    "    \n",
    "    def __init__(self, mat):\n",
    "        self.mat = mat\n",
    "        self.rows = None\n",
    "        self.cols = None\n",
    "        \n",
    "    def twodim(self):\n",
    "        if type(self.mat) == list:\n",
    "            inner_lists = 0\n",
    "            for i in self.mat:\n",
    "                if type(i) == list:\n",
    "                    inner_lists += 1\n",
    "            if inner_lists == len(self.mat):\n",
    "                three = 0\n",
    "                for j in i:\n",
    "                    if type(j) == list:\n",
    "                        three += 1\n",
    "                if three > 0:\n",
    "                    return False\n",
    "                else:\n",
    "                    return True\n",
    "            else:\n",
    "                return False\n",
    "        else:\n",
    "            return False\n",
    "\n",
    "    def rowcolumn(self):\n",
    "        col_mismatch = 0\n",
    "        for i in range(len(self.mat)-1):\n",
    "            if len(self.mat[i]) != len(self.mat[i + 1]):\n",
    "                col_mismatch += 1\n",
    "        if col_mismatch > 0:\n",
    "            return False\n",
    "        else:\n",
    "            self.rows = len(self)\n",
    "            self.cols = len(self[0])\n",
    "            return (self.rows,self.cols)\n",
    "\n",
    "    def compare(self, mat2):\n",
    "        if len(self.mat) == len(mat2):\n",
    "            inner_mismatch = 0\n",
    "            for i in range(len(self.mat)):\n",
    "                if len(self.mat[i]) != len(mat2[i]):\n",
    "                    inner_mismatch += 1\n",
    "            if inner_mismatch > 0:\n",
    "                return False\n",
    "            else:\n",
    "                return True\n",
    "        else:\n",
    "            return False\n",
    "\n",
    "    def addition(self, mat2):\n",
    "        mat3 = []\n",
    "        mat_sum = []\n",
    "        for i in range(len(self.mat)):\n",
    "            for j in range(len(self.mat[0])):\n",
    "                mat3.append(self.mat[i][j] + mat2[i][j])\n",
    "            mat_sum.append(mat3)\n",
    "            mat3 = []\n",
    "        return mat_sum"
   ]
  },
  {
   "cell_type": "code",
   "execution_count": 39,
   "metadata": {},
   "outputs": [
    {
     "name": "stdout",
     "output_type": "stream",
     "text": [
      "True\n",
      "[[8, 10, 12], [14, 16, 18]]\n"
     ]
    }
   ],
   "source": [
    "print(Matrix2D([[1,2,3],[4,5,6]]).compare(Matrix2D([[7,8,9],[10,11,12]]).mat))\n",
    "\n",
    "print(Matrix2D([[1,2,3],[4,5,6]]).addition(Matrix2D([[7,8,9],[10,11,12]]).mat))"
   ]
  },
  {
   "cell_type": "markdown",
   "metadata": {},
   "source": [
    "# Bonus Challenge 2 - Transpose Function\n",
    "\n",
    "#### Write a function that transposes the matrix and add it to your class.\n",
    "\n",
    "You can read more about the transpose of a matrix [here](https://en.wikipedia.org/wiki/Transpose).\n",
    "\n",
    "Hint: Use the zip function. Read about it [here](https://docs.python.org/3.3/library/functions.html#zip)\n",
    "\n",
    "Second Hint: Read about the asterisk in Python [here](https://docs.python.org/3/reference/expressions.html#expression-lists)"
   ]
  },
  {
   "cell_type": "code",
   "execution_count": 42,
   "metadata": {},
   "outputs": [],
   "source": [
    "def transpose1(mat):\n",
    "    mat_trans1 = []\n",
    "    for i in zip(*mat):\n",
    "        i = list(i)\n",
    "        mat_trans1.append(i)\n",
    "    return mat_trans1\n",
    "\n",
    "def transpose2(mat):    \n",
    "    mat_trans2 = []\n",
    "    mat0 = []\n",
    "    for j in range(len(mat[0])):\n",
    "        for i in range(len(mat)):\n",
    "            mat0.append(mat[i][j])\n",
    "        mat_trans2.append(mat0)\n",
    "        mat0 = []\n",
    "    return mat_trans2"
   ]
  },
  {
   "cell_type": "code",
   "execution_count": 45,
   "metadata": {},
   "outputs": [
    {
     "data": {
      "text/plain": [
       "[[1, 4], [2, 5], [3, 6]]"
      ]
     },
     "execution_count": 45,
     "metadata": {},
     "output_type": "execute_result"
    }
   ],
   "source": [
    "transpose2([[1,2,3],[4,5,6]])"
   ]
  }
 ],
 "metadata": {
  "kernelspec": {
   "display_name": "Python 3",
   "language": "python",
   "name": "python3"
  },
  "language_info": {
   "codemirror_mode": {
    "name": "ipython",
    "version": 3
   },
   "file_extension": ".py",
   "mimetype": "text/x-python",
   "name": "python",
   "nbconvert_exporter": "python",
   "pygments_lexer": "ipython3",
   "version": "3.7.3"
  }
 },
 "nbformat": 4,
 "nbformat_minor": 2
}
