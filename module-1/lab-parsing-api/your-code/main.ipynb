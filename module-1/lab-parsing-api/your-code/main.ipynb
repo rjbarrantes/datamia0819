{
 "cells": [
  {
   "cell_type": "markdown",
   "metadata": {},
   "source": [
    "# Challenge: Promotions\n",
    "\n",
    "In this challenge, you'll develop codes to parse and analyze data returned from another API on Zalando such as [Promos homme (Men's Promotions)\n",
    "](https://www.zalando.fr/promo-homme/) or [Promos femme (Women's Promotions)](https://www.zalando.fr/promo-femme/). The workflow is almost the same as in the guided lesson but you'll work with different data."
   ]
  },
  {
   "cell_type": "markdown",
   "metadata": {},
   "source": [
    "## Obtaining the link\n",
    "\n",
    "Wrote your codes in the cell below to obtain the data from the API endpoint you choose. A recap of the workflow:\n",
    "\n",
    "1. Examine the webpages and choose one that you want to work with.\n",
    "\n",
    "1. Use Google Chrome's DevTools to inspect the XHR network requests. Find out the API endpoint that serves data to the webpage.\n",
    "\n",
    "1. Test the API endpoint in the browser to verify its data.\n",
    "\n",
    "1. Change the page number offset of the API URL to test if it's working."
   ]
  },
  {
   "cell_type": "code",
   "execution_count": 2,
   "metadata": {},
   "outputs": [
    {
     "data": {
      "text/plain": [
       "['https://financialmodelingprep.com/api/v3/financials/income-statement/AAPL',\n",
       " 'https://financialmodelingprep.com/api/v3/financials/income-statement/MSFT',\n",
       " 'https://financialmodelingprep.com/api/v3/financials/income-statement/AMZN']"
      ]
     },
     "execution_count": 2,
     "metadata": {},
     "output_type": "execute_result"
    }
   ],
   "source": [
    "companies = ['AAPL', 'MSFT', 'AMZN']\n",
    "\n",
    "urls = ['https://financialmodelingprep.com/api/v3/financials/income-statement/' + i for i in companies]\n",
    "urls"
   ]
  },
  {
   "cell_type": "markdown",
   "metadata": {},
   "source": [
    "## Reading the data\n",
    "\n",
    "In the next cell, use Python to obtain data from the API endpoint you chose in the previous step. Workflow:\n",
    "\n",
    "1. Import libraries.\n",
    "\n",
    "1. Define the initial API endpoint URL.\n",
    "\n",
    "1. Make request to obtain data of the 1st page. Flatten the data and store it in an empty object variable.\n",
    "\n",
    "1. Find out the total page count in the 1st page data.\n",
    "\n",
    "1. Use a FOR loop to make requests for the additional pages from 2 to page count. Append the data of each additional page to the flatterned data object.\n",
    "\n",
    "1. Print and review the data you obtained."
   ]
  },
  {
   "cell_type": "code",
   "execution_count": 3,
   "metadata": {},
   "outputs": [],
   "source": [
    "import requests as r\n",
    "import pandas as pd\n",
    "import json\n",
    "\n",
    "financials = []\n",
    "\n",
    "for i in range(len(companies)):\n",
    "    request = r.get(urls[i])\n",
    "    json_req = request.json()\n",
    "\n",
    "    financial = pd.DataFrame(json_req['financials'])\n",
    "    financial['symbol'] = companies[i]\n",
    "    \n",
    "    financials.append(financial)\n",
    "data = pd.concat(financials, ignore_index = True)"
   ]
  },
  {
   "cell_type": "code",
   "execution_count": 4,
   "metadata": {},
   "outputs": [
    {
     "data": {
      "text/html": [
       "<div>\n",
       "<style scoped>\n",
       "    .dataframe tbody tr th:only-of-type {\n",
       "        vertical-align: middle;\n",
       "    }\n",
       "\n",
       "    .dataframe tbody tr th {\n",
       "        vertical-align: top;\n",
       "    }\n",
       "\n",
       "    .dataframe thead th {\n",
       "        text-align: right;\n",
       "    }\n",
       "</style>\n",
       "<table border=\"1\" class=\"dataframe\">\n",
       "  <thead>\n",
       "    <tr style=\"text-align: right;\">\n",
       "      <th></th>\n",
       "      <th>Consolidated Income</th>\n",
       "      <th>Cost of Revenue</th>\n",
       "      <th>Dividend per Share</th>\n",
       "      <th>EBIT</th>\n",
       "      <th>EBIT Margin</th>\n",
       "      <th>EBITDA</th>\n",
       "      <th>EBITDA Margin</th>\n",
       "      <th>EPS</th>\n",
       "      <th>EPS Diluted</th>\n",
       "      <th>Earnings Before Tax Margin</th>\n",
       "      <th>...</th>\n",
       "      <th>Preferred Dividends</th>\n",
       "      <th>Profit Margin</th>\n",
       "      <th>R&amp;D Expenses</th>\n",
       "      <th>Revenue</th>\n",
       "      <th>Revenue Growth</th>\n",
       "      <th>SG&amp;A Expense</th>\n",
       "      <th>Weighted Average Shs Out</th>\n",
       "      <th>Weighted Average Shs Out (Dil)</th>\n",
       "      <th>date</th>\n",
       "      <th>symbol</th>\n",
       "    </tr>\n",
       "  </thead>\n",
       "  <tbody>\n",
       "    <tr>\n",
       "      <th>0</th>\n",
       "      <td>59531000000.0</td>\n",
       "      <td>163756000000.0</td>\n",
       "      <td>2.72</td>\n",
       "      <td>72903000000.0</td>\n",
       "      <td>0.2745</td>\n",
       "      <td>83806000000.0</td>\n",
       "      <td>0.316</td>\n",
       "      <td>12.01</td>\n",
       "      <td>11.91</td>\n",
       "      <td>0.2745</td>\n",
       "      <td>...</td>\n",
       "      <td>0.0</td>\n",
       "      <td>0.224</td>\n",
       "      <td>14236000000.0</td>\n",
       "      <td>265595000000.0</td>\n",
       "      <td>0.1586</td>\n",
       "      <td>16705000000.0</td>\n",
       "      <td>4955377000.0</td>\n",
       "      <td>5000109000.0</td>\n",
       "      <td>2018-09-29</td>\n",
       "      <td>AAPL</td>\n",
       "    </tr>\n",
       "    <tr>\n",
       "      <th>1</th>\n",
       "      <td>48351000000.0</td>\n",
       "      <td>141048000000.0</td>\n",
       "      <td>2.4</td>\n",
       "      <td>64089000000.0</td>\n",
       "      <td>0.2796</td>\n",
       "      <td>74246000000.0</td>\n",
       "      <td>0.324</td>\n",
       "      <td>9.27</td>\n",
       "      <td>9.21</td>\n",
       "      <td>0.2796</td>\n",
       "      <td>...</td>\n",
       "      <td>0.0</td>\n",
       "      <td>0.211</td>\n",
       "      <td>11581000000.0</td>\n",
       "      <td>229234000000.0</td>\n",
       "      <td>0.063</td>\n",
       "      <td>15261000000.0</td>\n",
       "      <td>5217242000.0</td>\n",
       "      <td>5251692000.0</td>\n",
       "      <td>2017-09-30</td>\n",
       "      <td>AAPL</td>\n",
       "    </tr>\n",
       "    <tr>\n",
       "      <th>2</th>\n",
       "      <td>45687000000.0</td>\n",
       "      <td>131376000000.0</td>\n",
       "      <td>2.18</td>\n",
       "      <td>61372000000.0</td>\n",
       "      <td>0.2846</td>\n",
       "      <td>71877000000.0</td>\n",
       "      <td>0.333</td>\n",
       "      <td>8.35</td>\n",
       "      <td>8.31</td>\n",
       "      <td>0.2846</td>\n",
       "      <td>...</td>\n",
       "      <td>0.0</td>\n",
       "      <td>0.212</td>\n",
       "      <td>10045000000.0</td>\n",
       "      <td>215639000000.0</td>\n",
       "      <td>-0.0773</td>\n",
       "      <td>14194000000.0</td>\n",
       "      <td>5470820000.0</td>\n",
       "      <td>5500281000.0</td>\n",
       "      <td>2016-09-24</td>\n",
       "      <td>AAPL</td>\n",
       "    </tr>\n",
       "    <tr>\n",
       "      <th>3</th>\n",
       "      <td>53394000000.0</td>\n",
       "      <td>140089000000.0</td>\n",
       "      <td>1.98</td>\n",
       "      <td>72515000000.0</td>\n",
       "      <td>0.3103</td>\n",
       "      <td>83772000000.0</td>\n",
       "      <td>0.358</td>\n",
       "      <td>9.28</td>\n",
       "      <td>9.22</td>\n",
       "      <td>0.3103</td>\n",
       "      <td>...</td>\n",
       "      <td>0.0</td>\n",
       "      <td>0.228</td>\n",
       "      <td>8067000000.0</td>\n",
       "      <td>233715000000.0</td>\n",
       "      <td>0.2786</td>\n",
       "      <td>14329000000.0</td>\n",
       "      <td>5753421000.0</td>\n",
       "      <td>5793069000.0</td>\n",
       "      <td>2015-09-26</td>\n",
       "      <td>AAPL</td>\n",
       "    </tr>\n",
       "    <tr>\n",
       "      <th>4</th>\n",
       "      <td>39510000000.0</td>\n",
       "      <td>112258000000.0</td>\n",
       "      <td>1.811</td>\n",
       "      <td>53483000000.0</td>\n",
       "      <td>0.2926</td>\n",
       "      <td>61429000000.0</td>\n",
       "      <td>0.336</td>\n",
       "      <td>6.49</td>\n",
       "      <td>6.45</td>\n",
       "      <td>0.2926</td>\n",
       "      <td>...</td>\n",
       "      <td>0.0</td>\n",
       "      <td>0.216</td>\n",
       "      <td>6041000000.0</td>\n",
       "      <td>182795000000.0</td>\n",
       "      <td>0.0695</td>\n",
       "      <td>11993000000.0</td>\n",
       "      <td>6085572000.0</td>\n",
       "      <td>6122663000.0</td>\n",
       "      <td>2014-09-27</td>\n",
       "      <td>AAPL</td>\n",
       "    </tr>\n",
       "  </tbody>\n",
       "</table>\n",
       "<p>5 rows × 33 columns</p>\n",
       "</div>"
      ],
      "text/plain": [
       "  Consolidated Income Cost of Revenue Dividend per Share           EBIT  \\\n",
       "0       59531000000.0  163756000000.0               2.72  72903000000.0   \n",
       "1       48351000000.0  141048000000.0                2.4  64089000000.0   \n",
       "2       45687000000.0  131376000000.0               2.18  61372000000.0   \n",
       "3       53394000000.0  140089000000.0               1.98  72515000000.0   \n",
       "4       39510000000.0  112258000000.0              1.811  53483000000.0   \n",
       "\n",
       "  EBIT Margin         EBITDA EBITDA Margin    EPS EPS Diluted  \\\n",
       "0      0.2745  83806000000.0         0.316  12.01       11.91   \n",
       "1      0.2796  74246000000.0         0.324   9.27        9.21   \n",
       "2      0.2846  71877000000.0         0.333   8.35        8.31   \n",
       "3      0.3103  83772000000.0         0.358   9.28        9.22   \n",
       "4      0.2926  61429000000.0         0.336   6.49        6.45   \n",
       "\n",
       "  Earnings Before Tax Margin  ... Preferred Dividends Profit Margin  \\\n",
       "0                     0.2745  ...                 0.0         0.224   \n",
       "1                     0.2796  ...                 0.0         0.211   \n",
       "2                     0.2846  ...                 0.0         0.212   \n",
       "3                     0.3103  ...                 0.0         0.228   \n",
       "4                     0.2926  ...                 0.0         0.216   \n",
       "\n",
       "    R&D Expenses         Revenue Revenue Growth   SG&A Expense  \\\n",
       "0  14236000000.0  265595000000.0         0.1586  16705000000.0   \n",
       "1  11581000000.0  229234000000.0          0.063  15261000000.0   \n",
       "2  10045000000.0  215639000000.0        -0.0773  14194000000.0   \n",
       "3   8067000000.0  233715000000.0         0.2786  14329000000.0   \n",
       "4   6041000000.0  182795000000.0         0.0695  11993000000.0   \n",
       "\n",
       "  Weighted Average Shs Out Weighted Average Shs Out (Dil)        date symbol  \n",
       "0             4955377000.0                   5000109000.0  2018-09-29   AAPL  \n",
       "1             5217242000.0                   5251692000.0  2017-09-30   AAPL  \n",
       "2             5470820000.0                   5500281000.0  2016-09-24   AAPL  \n",
       "3             5753421000.0                   5793069000.0  2015-09-26   AAPL  \n",
       "4             6085572000.0                   6122663000.0  2014-09-27   AAPL  \n",
       "\n",
       "[5 rows x 33 columns]"
      ]
     },
     "execution_count": 4,
     "metadata": {},
     "output_type": "execute_result"
    }
   ],
   "source": [
    "data.head()"
   ]
  },
  {
   "cell_type": "code",
   "execution_count": 5,
   "metadata": {},
   "outputs": [
    {
     "data": {
      "text/plain": [
       "Index(['Consolidated Income', 'Cost of Revenue', 'Dividend per Share', 'EBIT',\n",
       "       'EBIT Margin', 'EBITDA', 'EBITDA Margin', 'EPS', 'EPS Diluted',\n",
       "       'Earnings Before Tax Margin', 'Earnings before Tax',\n",
       "       'Free Cash Flow margin', 'Gross Margin', 'Gross Profit',\n",
       "       'Income Tax Expense', 'Interest Expense', 'Net Income',\n",
       "       'Net Income - Discontinued ops', 'Net Income - Non-Controlling int',\n",
       "       'Net Income Com', 'Net Profit Margin', 'Operating Expenses',\n",
       "       'Operating Income', 'Preferred Dividends', 'Profit Margin',\n",
       "       'R&D Expenses', 'Revenue', 'Revenue Growth', 'SG&A Expense',\n",
       "       'Weighted Average Shs Out', 'Weighted Average Shs Out (Dil)', 'date',\n",
       "       'symbol'],\n",
       "      dtype='object')"
      ]
     },
     "execution_count": 5,
     "metadata": {},
     "output_type": "execute_result"
    }
   ],
   "source": [
    "data.columns"
   ]
  },
  {
   "cell_type": "code",
   "execution_count": 6,
   "metadata": {},
   "outputs": [
    {
     "data": {
      "text/plain": [
       "Index(['consolidated_income', 'cost_of_revenue', 'dividend_per_share', 'ebit',\n",
       "       'ebit_margin', 'ebitda', 'ebitda_margin', 'eps', 'eps_diluted',\n",
       "       'earnings_before_tax_margin', 'earnings_before_tax',\n",
       "       'free_cash_flow_margin', 'gross_margin', 'gross_profit',\n",
       "       'income_tax_expense', 'interest_expense', 'net_income',\n",
       "       'net_income_discontinued_ops', 'net_income_noncontrolling_int',\n",
       "       'net_income_com', 'net_profit_margin', 'operating_expenses',\n",
       "       'operating_income', 'preferred_dividends', 'profit_margin',\n",
       "       'rd_expenses', 'revenue', 'revenue_growth', 'sga_expense',\n",
       "       'weighted_average_shs_out', 'weighted_average_shs_out_dil', 'date',\n",
       "       'symbol'],\n",
       "      dtype='object')"
      ]
     },
     "execution_count": 6,
     "metadata": {},
     "output_type": "execute_result"
    }
   ],
   "source": [
    "# pythonic column names\n",
    "\n",
    "data.columns = data.columns.str.rstrip().str.replace(' (- )*', '_', regex = True).str.lower().str.replace('\\W', '', regex = True)\n",
    "data.columns"
   ]
  },
  {
   "cell_type": "code",
   "execution_count": 7,
   "metadata": {},
   "outputs": [
    {
     "data": {
      "text/plain": [
       "consolidated_income              object\n",
       "cost_of_revenue                  object\n",
       "dividend_per_share               object\n",
       "ebit                             object\n",
       "ebit_margin                      object\n",
       "ebitda                           object\n",
       "ebitda_margin                    object\n",
       "eps                              object\n",
       "eps_diluted                      object\n",
       "earnings_before_tax_margin       object\n",
       "earnings_before_tax              object\n",
       "free_cash_flow_margin            object\n",
       "gross_margin                     object\n",
       "gross_profit                     object\n",
       "income_tax_expense               object\n",
       "interest_expense                 object\n",
       "net_income                       object\n",
       "net_income_discontinued_ops      object\n",
       "net_income_noncontrolling_int    object\n",
       "net_income_com                   object\n",
       "net_profit_margin                object\n",
       "operating_expenses               object\n",
       "operating_income                 object\n",
       "preferred_dividends              object\n",
       "profit_margin                    object\n",
       "rd_expenses                      object\n",
       "revenue                          object\n",
       "revenue_growth                   object\n",
       "sga_expense                      object\n",
       "weighted_average_shs_out         object\n",
       "weighted_average_shs_out_dil     object\n",
       "date                             object\n",
       "symbol                           object\n",
       "dtype: object"
      ]
     },
     "execution_count": 7,
     "metadata": {},
     "output_type": "execute_result"
    }
   ],
   "source": [
    "data.dtypes"
   ]
  },
  {
   "cell_type": "code",
   "execution_count": 11,
   "metadata": {},
   "outputs": [
    {
     "data": {
      "text/plain": [
       "consolidated_income              float64\n",
       "cost_of_revenue                  float64\n",
       "dividend_per_share               float64\n",
       "ebit                             float64\n",
       "ebit_margin                      float64\n",
       "ebitda                           float64\n",
       "ebitda_margin                    float64\n",
       "eps                              float64\n",
       "eps_diluted                      float64\n",
       "earnings_before_tax_margin       float64\n",
       "earnings_before_tax              float64\n",
       "free_cash_flow_margin            float64\n",
       "gross_margin                     float64\n",
       "gross_profit                     float64\n",
       "income_tax_expense               float64\n",
       "interest_expense                 float64\n",
       "net_income                       float64\n",
       "net_income_discontinued_ops      float64\n",
       "net_income_noncontrolling_int    float64\n",
       "net_income_com                   float64\n",
       "net_profit_margin                float64\n",
       "operating_expenses               float64\n",
       "operating_income                 float64\n",
       "preferred_dividends              float64\n",
       "profit_margin                    float64\n",
       "rd_expenses                      float64\n",
       "revenue                          float64\n",
       "revenue_growth                   float64\n",
       "sga_expense                      float64\n",
       "weighted_average_shs_out         float64\n",
       "weighted_average_shs_out_dil     float64\n",
       "date                              object\n",
       "symbol                            object\n",
       "dtype: object"
      ]
     },
     "execution_count": 11,
     "metadata": {},
     "output_type": "execute_result"
    }
   ],
   "source": [
    "# change data types\n",
    "\n",
    "data[data.columns[:-2]] = data[data.columns[:-2]].astype('float')\n",
    "data.dtypes"
   ]
  },
  {
   "cell_type": "code",
   "execution_count": 12,
   "metadata": {},
   "outputs": [
    {
     "data": {
      "text/plain": [
       "symbol                0.0\n",
       "interest_expense      0.0\n",
       "cost_of_revenue       0.0\n",
       "dividend_per_share    0.0\n",
       "ebit                  0.0\n",
       "ebit_margin           0.0\n",
       "ebitda                0.0\n",
       "ebitda_margin         0.0\n",
       "eps                   0.0\n",
       "eps_diluted           0.0\n",
       "dtype: float64"
      ]
     },
     "execution_count": 12,
     "metadata": {},
     "output_type": "execute_result"
    }
   ],
   "source": [
    "# missing data ratios per column\n",
    "\n",
    "data.isna().sum().sort_values(ascending = False)[:10] / len(data) * 100"
   ]
  },
  {
   "cell_type": "code",
   "execution_count": 47,
   "metadata": {},
   "outputs": [
    {
     "name": "stdout",
     "output_type": "stream",
     "text": [
      "AAPL: 2012-09-29\n",
      "MSFT: 2011-06-30\n",
      "AMZN: 2018-12-31\n"
     ]
    }
   ],
   "source": [
    "# quarter with highest profit margin per company\n",
    "\n",
    "for i in companies:\n",
    "    company = data.loc[data['symbol'] == i]\n",
    "    top_quarter_pm = company.loc[company['profit_margin'] == company['profit_margin'].max(), 'date'].to_list()[0]\n",
    "    print(i + ': ' + top_quarter_pm)"
   ]
  },
  {
   "cell_type": "code",
   "execution_count": 55,
   "metadata": {},
   "outputs": [
    {
     "name": "stdout",
     "output_type": "stream",
     "text": [
      "AAPL: 0.1586\n",
      "MSFT: 0.1403\n",
      "AMZN: 0.3093\n"
     ]
    }
   ],
   "source": [
    "# revenue growth in the last reported quarter per company\n",
    "\n",
    "for i in companies:\n",
    "    company = data.loc[data['symbol'] == i]\n",
    "    last_quarter_rg = company.loc[company['date'] == company['date'].max(), 'revenue_growth'].to_list()[0]\n",
    "    print(i + ': ' + str(last_quarter_rg))"
   ]
  },
  {
   "cell_type": "code",
   "execution_count": 66,
   "metadata": {},
   "outputs": [
    {
     "data": {
      "text/plain": [
       "<seaborn.axisgrid.FacetGrid at 0x27fa7175048>"
      ]
     },
     "execution_count": 66,
     "metadata": {},
     "output_type": "execute_result"
    },
    {
     "data": {
      "text/plain": [
       "<Figure size 648x1152 with 0 Axes>"
      ]
     },
     "metadata": {},
     "output_type": "display_data"
    },
    {
     "data": {
      "image/png": "[encoded data removed]",
      "text/plain": [
       "<Figure size 434.6x360 with 1 Axes>"
      ]
     },
     "metadata": {},
     "output_type": "display_data"
    }
   ],
   "source": [
    "# correlation between revenue growth and operating expenses by company\n",
    "\n",
    "import matplotlib.pyplot as plt\n",
    "import seaborn as sns\n",
    "\n",
    "fig = plt.figure(figsize = (9, 16))\n",
    "sns.set_style('ticks')\n",
    "sns.set_context('notebook')\n",
    "\n",
    "sns.relplot(x = 'revenue_growth', y = 'operating_expenses', hue = 'symbol', palette = 'tab20', alpha = .7, data = data)"
   ]
  },
  {
   "cell_type": "code",
   "execution_count": null,
   "metadata": {},
   "outputs": [],
   "source": []
  }
 ],
 "metadata": {
  "kernelspec": {
   "display_name": "Python 3",
   "language": "python",
   "name": "python3"
  },
  "language_info": {
   "codemirror_mode": {
    "name": "ipython",
    "version": 3
   },
   "file_extension": ".py",
   "mimetype": "text/x-python",
   "name": "python",
   "nbconvert_exporter": "python",
   "pygments_lexer": "ipython3",
   "version": "3.7.3"
  }
 },
 "nbformat": 4,
 "nbformat_minor": 2
}
