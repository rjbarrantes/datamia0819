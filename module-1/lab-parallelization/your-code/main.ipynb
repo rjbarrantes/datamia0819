{
 "cells": [
  {
   "cell_type": "markdown",
   "metadata": {},
   "source": [
    "# Parallelization Lab\n",
    "\n",
    "In this lab, you will be leveraging several concepts you have learned to obtain a list of links from a web page and crawl and index the pages referenced by those links - both sequentially and in parallel. Follow the steps below to complete the lab."
   ]
  },
  {
   "cell_type": "markdown",
   "metadata": {},
   "source": [
    "## Step 1: Use the requests library to retrieve the content from the URL below."
   ]
  },
  {
   "cell_type": "code",
   "execution_count": 1,
   "metadata": {},
   "outputs": [],
   "source": [
    "import requests as r\n",
    "from bs4 import BeautifulSoup as bs\n",
    "import pandas as pd"
   ]
  },
  {
   "cell_type": "markdown",
   "metadata": {},
   "source": [
    "## Step 2: Use BeautifulSoup to extract a list of all the unique links on the page."
   ]
  },
  {
   "cell_type": "markdown",
   "metadata": {},
   "source": [
    "## Step 3: Use list comprehensions with conditions to clean the link list.\n",
    "\n",
    "There are two types of links, absolute and relative. Absolute links have the full URL and begin with http while relative links begin with a forward slash (/) and point to an internal page within the wikipedia.org domain. Clean the respective types of URLs as follows.\n",
    "\n",
    "- Absolute Links: Create a list of these and remove any that contain a percentage sign (%).\n",
    "- Relativel Links: Create a list of these, add the domain to the link so that you have the full URL, and remove any that contain a percentage sign (%).\n",
    "- Combine the list of absolute and relative links and ensure there are no duplicates."
   ]
  },
  {
   "cell_type": "code",
   "execution_count": 2,
   "metadata": {},
   "outputs": [
    {
     "data": {
      "text/plain": [
       "0     https://en.wikipedia.org/wiki/Data_science#mw-...\n",
       "1     https://en.wikipedia.org/wiki/Data_science#p-s...\n",
       "2     https://en.wikipedia.org/wiki/wiki/Information...\n",
       "3     https://en.wikipedia.org/wiki/wiki/Machine_lea...\n",
       "4        https://en.wikipedia.org/wiki/wiki/Data_mining\n",
       "5     https://en.wikipedia.org/wiki/wiki/File:Kernel...\n",
       "6     https://en.wikipedia.org/wiki/wiki/Statistical...\n",
       "7     https://en.wikipedia.org/wiki/wiki/Cluster_ana...\n",
       "8     https://en.wikipedia.org/wiki/wiki/Regression_...\n",
       "9     https://en.wikipedia.org/wiki/wiki/Anomaly_det...\n",
       "10    https://en.wikipedia.org/wiki/wiki/Automated_m...\n",
       "11    https://en.wikipedia.org/wiki/wiki/Association...\n",
       "12    https://en.wikipedia.org/wiki/wiki/Reinforceme...\n",
       "13    https://en.wikipedia.org/wiki/wiki/Structured_...\n",
       "14    https://en.wikipedia.org/wiki/wiki/Feature_eng...\n",
       "15    https://en.wikipedia.org/wiki/wiki/Feature_lea...\n",
       "16    https://en.wikipedia.org/wiki/wiki/Online_mach...\n",
       "17    https://en.wikipedia.org/wiki/wiki/Semi-superv...\n",
       "18    https://en.wikipedia.org/wiki/wiki/Unsupervise...\n",
       "19    https://en.wikipedia.org/wiki/wiki/Learning_to...\n",
       "dtype: object"
      ]
     },
     "execution_count": 2,
     "metadata": {},
     "output_type": "execute_result"
    }
   ],
   "source": [
    "soup = bs(r.get('https://en.wikipedia.org/wiki/Data_science').content, 'lxml')\n",
    "\n",
    "links = pd.Series([str(i) for i in soup.find_all('a') if str(i) != '<a id=\"top\"></a>']).str.replace('^(?:.|\\n)*href=\"', '').str.replace('\"(?:.|\\n)*$', '')\n",
    "links[links.str.contains('^#')] = 'https://en.wikipedia.org/wiki/Data_science' + links\n",
    "links[links.str.contains('^/{1}[A-z]')] = 'https://en.wikipedia.org/wiki' + links\n",
    "links[links.str.contains('^/{2}')] = 'https:' + links\n",
    "links = pd.Series(links.unique())[:20]\n",
    "\n",
    "links"
   ]
  },
  {
   "cell_type": "markdown",
   "metadata": {},
   "source": [
    "## Step 4: Use the os library to create a folder called *wikipedia* and make that the current working directory."
   ]
  },
  {
   "cell_type": "code",
   "execution_count": 3,
   "metadata": {},
   "outputs": [
    {
     "data": {
      "text/plain": [
       "'C:\\\\wikipedia'"
      ]
     },
     "execution_count": 3,
     "metadata": {},
     "output_type": "execute_result"
    }
   ],
   "source": [
    "import os\n",
    "\n",
    "# os.mkdir('/wikipedia')\n",
    "os.chdir('/wikipedia')\n",
    "os.getcwd()"
   ]
  },
  {
   "cell_type": "markdown",
   "metadata": {},
   "source": [
    "## Step 5: Write a function called index_page that accepts a link and does the following.\n",
    "\n",
    "- Tries to request the content of the page referenced by that link.\n",
    "- Slugifies the filename using the `slugify` function from the [python-slugify](https://pypi.org/project/python-slugify/) library and adds a .html file extension.\n",
    "    - If you don't already have the python-slugify library installed, you can pip install it as follows: `$ pip install python-slugify`.\n",
    "    - To import the slugify function, you would do the following: `from slugify import slugify`.\n",
    "    - You can then slugify a link as follows `slugify(link)`.\n",
    "- Creates a file in the wikipedia folder using the slugified filename and writes the contents of the page to the file.\n",
    "- If an exception occurs during the process above, just `pass`."
   ]
  },
  {
   "cell_type": "code",
   "execution_count": 4,
   "metadata": {},
   "outputs": [],
   "source": [
    "from slugify import slugify"
   ]
  },
  {
   "cell_type": "code",
   "execution_count": 5,
   "metadata": {},
   "outputs": [],
   "source": [
    "def index_page(x):\n",
    "    import requests as r\n",
    "    try:\n",
    "        content = r.get(x).content\n",
    "        return slugify(content)\n",
    "    except:\n",
    "        pass"
   ]
  },
  {
   "cell_type": "markdown",
   "metadata": {},
   "source": [
    "## Step 6: Sequentially loop through the list of links, running the index_page function each time.\n",
    "\n",
    "Remember to include `%%time` at the beginning of the cell so that it measures the time it takes for the cell to run."
   ]
  },
  {
   "cell_type": "code",
   "execution_count": 7,
   "metadata": {},
   "outputs": [
    {
     "name": "stdout",
     "output_type": "stream",
     "text": [
      "Wall time: 8.21 s\n"
     ]
    }
   ],
   "source": [
    "%%time\n",
    "\n",
    "for i in links:\n",
    "    index_page(i)"
   ]
  },
  {
   "cell_type": "markdown",
   "metadata": {},
   "source": [
    "## Step 7: Perform the page indexing in parallel and note the difference in performance.\n",
    "\n",
    "Remember to include `%%time` at the beginning of the cell so that it measures the time it takes for the cell to run."
   ]
  },
  {
   "cell_type": "code",
   "execution_count": 9,
   "metadata": {},
   "outputs": [],
   "source": [
    "import multiprocessing"
   ]
  },
  {
   "cell_type": "code",
   "execution_count": null,
   "metadata": {},
   "outputs": [],
   "source": [
    "%%time\n",
    "\n",
    "pool = multiprocessing.Pool()\n",
    "result = pool.map(index_page, links)\n",
    "pool.terminate()\n",
    "pool.join()"
   ]
  },
  {
   "cell_type": "code",
   "execution_count": null,
   "metadata": {},
   "outputs": [],
   "source": []
  }
 ],
 "metadata": {
  "kernelspec": {
   "display_name": "Python 3",
   "language": "python",
   "name": "python3"
  },
  "language_info": {
   "codemirror_mode": {
    "name": "ipython",
    "version": 3
   },
   "file_extension": ".py",
   "mimetype": "text/x-python",
   "name": "python",
   "nbconvert_exporter": "python",
   "pygments_lexer": "ipython3",
   "version": "3.7.3"
  }
 },
 "nbformat": 4,
 "nbformat_minor": 2
}
